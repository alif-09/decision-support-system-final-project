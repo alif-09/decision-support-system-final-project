{
 "cells": [
  {
   "cell_type": "code",
   "execution_count": null,
   "metadata": {
    "vscode": {
     "languageId": "plaintext"
    }
   },
   "outputs": [],
   "source": [
    "import streamlit as st\n",
    "from utils import load_tokenizer, load_model_file, predict_text\n",
    "\n",
    "# Memuat model dan tokenizer\n",
    "@st.cache_resource\n",
    "def load_resources():\n",
    "    tokenizer = load_tokenizer()\n",
    "    model = load_model_file()\n",
    "    return tokenizer, model\n",
    "\n",
    "tokenizer, model = load_resources()\n",
    "\n",
    "# Streamlit antarmuka\n",
    "st.title(\"Text Classification App\")\n",
    "st.write(\"This app predicts if a given text is related to 'suicide' or 'non-suicide'.\")\n",
    "\n",
    "# Input teks\n",
    "user_input = st.text_area(\"Enter your text:\", placeholder=\"Type here...\")\n",
    "\n",
    "if st.button(\"Predict\"):\n",
    "    if user_input.strip():\n",
    "        predicted_class, predicted_prob = predict_text(model, tokenizer, user_input)\n",
    "        \n",
    "        st.subheader(f\"Prediction: {predicted_class}\")\n",
    "        st.write(f\"Confidence: {predicted_prob:.2f}%\")\n",
    "    else:\n",
    "        st.error(\"Please enter some text to classify.\")\n"
   ]
  }
 ],
 "metadata": {
  "language_info": {
   "name": "python"
  }
 },
 "nbformat": 4,
 "nbformat_minor": 2
}
