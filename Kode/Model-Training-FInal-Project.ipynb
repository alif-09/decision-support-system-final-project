{
 "cells": [
  {
   "cell_type": "markdown",
   "id": "f63ef216",
   "metadata": {
    "papermill": {
     "duration": 0.006276,
     "end_time": "2024-11-25T02:51:22.371584",
     "exception": false,
     "start_time": "2024-11-25T02:51:22.365308",
     "status": "completed"
    },
    "tags": []
   },
   "source": [
    "## Data Loading"
   ]
  },
  {
   "cell_type": "code",
   "execution_count": 1,
   "id": "25edb5fa",
   "metadata": {
    "_cell_guid": "b1076dfc-b9ad-4769-8c92-a6c4dae69d19",
    "_uuid": "8f2839f25d086af736a60e9eeb907d3b93b6e0e5",
    "execution": {
     "iopub.execute_input": "2024-11-25T02:51:22.385612Z",
     "iopub.status.busy": "2024-11-25T02:51:22.385265Z",
     "iopub.status.idle": "2024-11-25T02:51:27.406750Z",
     "shell.execute_reply": "2024-11-25T02:51:27.405820Z"
    },
    "papermill": {
     "duration": 5.030241,
     "end_time": "2024-11-25T02:51:27.408574",
     "exception": false,
     "start_time": "2024-11-25T02:51:22.378333",
     "status": "completed"
    },
    "tags": []
   },
   "outputs": [
    {
     "data": {
      "text/html": [
       "<div>\n",
       "<style scoped>\n",
       "    .dataframe tbody tr th:only-of-type {\n",
       "        vertical-align: middle;\n",
       "    }\n",
       "\n",
       "    .dataframe tbody tr th {\n",
       "        vertical-align: top;\n",
       "    }\n",
       "\n",
       "    .dataframe thead th {\n",
       "        text-align: right;\n",
       "    }\n",
       "</style>\n",
       "<table border=\"1\" class=\"dataframe\">\n",
       "  <thead>\n",
       "    <tr style=\"text-align: right;\">\n",
       "      <th></th>\n",
       "      <th>Unnamed: 0</th>\n",
       "      <th>text</th>\n",
       "      <th>class</th>\n",
       "    </tr>\n",
       "  </thead>\n",
       "  <tbody>\n",
       "    <tr>\n",
       "      <th>0</th>\n",
       "      <td>2</td>\n",
       "      <td>Ex Wife Threatening SuicideRecently I left my ...</td>\n",
       "      <td>suicide</td>\n",
       "    </tr>\n",
       "    <tr>\n",
       "      <th>1</th>\n",
       "      <td>3</td>\n",
       "      <td>Am I weird I don't get affected by compliments...</td>\n",
       "      <td>non-suicide</td>\n",
       "    </tr>\n",
       "    <tr>\n",
       "      <th>2</th>\n",
       "      <td>4</td>\n",
       "      <td>Finally 2020 is almost over... So I can never ...</td>\n",
       "      <td>non-suicide</td>\n",
       "    </tr>\n",
       "    <tr>\n",
       "      <th>3</th>\n",
       "      <td>8</td>\n",
       "      <td>i need helpjust help me im crying so hard</td>\n",
       "      <td>suicide</td>\n",
       "    </tr>\n",
       "    <tr>\n",
       "      <th>4</th>\n",
       "      <td>9</td>\n",
       "      <td>I’m so lostHello, my name is Adam (16) and I’v...</td>\n",
       "      <td>suicide</td>\n",
       "    </tr>\n",
       "  </tbody>\n",
       "</table>\n",
       "</div>"
      ],
      "text/plain": [
       "   Unnamed: 0                                               text        class\n",
       "0           2  Ex Wife Threatening SuicideRecently I left my ...      suicide\n",
       "1           3  Am I weird I don't get affected by compliments...  non-suicide\n",
       "2           4  Finally 2020 is almost over... So I can never ...  non-suicide\n",
       "3           8          i need helpjust help me im crying so hard      suicide\n",
       "4           9  I’m so lostHello, my name is Adam (16) and I’v...      suicide"
      ]
     },
     "execution_count": 1,
     "metadata": {},
     "output_type": "execute_result"
    }
   ],
   "source": [
    "import pandas as pd\n",
    "dataframe = pd.read_csv('/kaggle/input/suicide-watch/Suicide_Detection.csv')\n",
    "dataframe.head()"
   ]
  },
  {
   "cell_type": "code",
   "execution_count": 2,
   "id": "bbe7db7d",
   "metadata": {
    "execution": {
     "iopub.execute_input": "2024-11-25T02:51:27.421735Z",
     "iopub.status.busy": "2024-11-25T02:51:27.421469Z",
     "iopub.status.idle": "2024-11-25T02:51:27.490110Z",
     "shell.execute_reply": "2024-11-25T02:51:27.488889Z"
    },
    "papermill": {
     "duration": 0.078497,
     "end_time": "2024-11-25T02:51:27.492997",
     "exception": false,
     "start_time": "2024-11-25T02:51:27.414500",
     "status": "completed"
    },
    "tags": []
   },
   "outputs": [],
   "source": [
    "suicide = dataframe[dataframe['class']=='suicide']\n",
    "non_suicide = dataframe[dataframe['class']== 'non-suicide']\n",
    "suicide = suicide.head(50000)\n",
    "non_suicide = non_suicide.head(50000)\n",
    "dataframe = pd.concat([suicide,non_suicide])"
   ]
  },
  {
   "cell_type": "code",
   "execution_count": 3,
   "id": "4e4bb332",
   "metadata": {
    "execution": {
     "iopub.execute_input": "2024-11-25T02:51:27.508005Z",
     "iopub.status.busy": "2024-11-25T02:51:27.507713Z",
     "iopub.status.idle": "2024-11-25T02:51:27.545279Z",
     "shell.execute_reply": "2024-11-25T02:51:27.544418Z"
    },
    "papermill": {
     "duration": 0.045698,
     "end_time": "2024-11-25T02:51:27.546926",
     "exception": false,
     "start_time": "2024-11-25T02:51:27.501228",
     "status": "completed"
    },
    "tags": []
   },
   "outputs": [
    {
     "name": "stdout",
     "output_type": "stream",
     "text": [
      "<class 'pandas.core.frame.DataFrame'>\n",
      "Index: 100000 entries, 0 to 99822\n",
      "Data columns (total 3 columns):\n",
      " #   Column      Non-Null Count   Dtype \n",
      "---  ------      --------------   ----- \n",
      " 0   Unnamed: 0  100000 non-null  int64 \n",
      " 1   text        100000 non-null  object\n",
      " 2   class       100000 non-null  object\n",
      "dtypes: int64(1), object(2)\n",
      "memory usage: 3.1+ MB\n"
     ]
    }
   ],
   "source": [
    "dataframe.info()"
   ]
  },
  {
   "cell_type": "markdown",
   "id": "83d86ab4",
   "metadata": {
    "papermill": {
     "duration": 0.005305,
     "end_time": "2024-11-25T02:51:27.557939",
     "exception": false,
     "start_time": "2024-11-25T02:51:27.552634",
     "status": "completed"
    },
    "tags": []
   },
   "source": [
    "## Data Preprocessing"
   ]
  },
  {
   "cell_type": "markdown",
   "id": "35966291",
   "metadata": {
    "papermill": {
     "duration": 0.005271,
     "end_time": "2024-11-25T02:51:27.568691",
     "exception": false,
     "start_time": "2024-11-25T02:51:27.563420",
     "status": "completed"
    },
    "tags": []
   },
   "source": [
    "### Check for missing value"
   ]
  },
  {
   "cell_type": "code",
   "execution_count": 4,
   "id": "fa46fd14",
   "metadata": {
    "execution": {
     "iopub.execute_input": "2024-11-25T02:51:27.581505Z",
     "iopub.status.busy": "2024-11-25T02:51:27.580717Z",
     "iopub.status.idle": "2024-11-25T02:51:27.609508Z",
     "shell.execute_reply": "2024-11-25T02:51:27.608661Z"
    },
    "papermill": {
     "duration": 0.037544,
     "end_time": "2024-11-25T02:51:27.611733",
     "exception": false,
     "start_time": "2024-11-25T02:51:27.574189",
     "status": "completed"
    },
    "tags": []
   },
   "outputs": [
    {
     "data": {
      "text/plain": [
       "Unnamed: 0    0\n",
       "text          0\n",
       "class         0\n",
       "dtype: int64"
      ]
     },
     "execution_count": 4,
     "metadata": {},
     "output_type": "execute_result"
    }
   ],
   "source": [
    "dataframe.isnull().sum()"
   ]
  },
  {
   "cell_type": "markdown",
   "id": "88d38b84",
   "metadata": {
    "papermill": {
     "duration": 0.010516,
     "end_time": "2024-11-25T02:51:27.632352",
     "exception": false,
     "start_time": "2024-11-25T02:51:27.621836",
     "status": "completed"
    },
    "tags": []
   },
   "source": [
    "### Process with text hammer and nltk"
   ]
  },
  {
   "cell_type": "code",
   "execution_count": 5,
   "id": "b999493e",
   "metadata": {
    "execution": {
     "iopub.execute_input": "2024-11-25T02:51:27.655764Z",
     "iopub.status.busy": "2024-11-25T02:51:27.655255Z",
     "iopub.status.idle": "2024-11-25T02:51:38.696995Z",
     "shell.execute_reply": "2024-11-25T02:51:38.696025Z"
    },
    "papermill": {
     "duration": 11.058356,
     "end_time": "2024-11-25T02:51:38.699129",
     "exception": false,
     "start_time": "2024-11-25T02:51:27.640773",
     "status": "completed"
    },
    "tags": []
   },
   "outputs": [
    {
     "name": "stdout",
     "output_type": "stream",
     "text": [
      "Collecting text_hammer\r\n",
      "  Downloading text_hammer-0.1.5-py3-none-any.whl.metadata (2.2 kB)\r\n",
      "Downloading text_hammer-0.1.5-py3-none-any.whl (7.6 kB)\r\n",
      "Installing collected packages: text_hammer\r\n",
      "Successfully installed text_hammer-0.1.5\r\n"
     ]
    }
   ],
   "source": [
    "!pip install text_hammer --no-deps\n",
    "import text_hammer as th"
   ]
  },
  {
   "cell_type": "code",
   "execution_count": 6,
   "id": "2309f7ae",
   "metadata": {
    "execution": {
     "iopub.execute_input": "2024-11-25T02:51:38.712802Z",
     "iopub.status.busy": "2024-11-25T02:51:38.712302Z",
     "iopub.status.idle": "2024-11-25T02:51:38.851522Z",
     "shell.execute_reply": "2024-11-25T02:51:38.850690Z"
    },
    "papermill": {
     "duration": 0.147914,
     "end_time": "2024-11-25T02:51:38.853439",
     "exception": false,
     "start_time": "2024-11-25T02:51:38.705525",
     "status": "completed"
    },
    "tags": []
   },
   "outputs": [
    {
     "name": "stdout",
     "output_type": "stream",
     "text": [
      "[nltk_data] Downloading package stopwords to /usr/share/nltk_data...\n",
      "[nltk_data]   Package stopwords is already up-to-date!\n",
      "[nltk_data] Downloading package punkt to /usr/share/nltk_data...\n",
      "[nltk_data]   Package punkt is already up-to-date!\n"
     ]
    }
   ],
   "source": [
    "import nltk\n",
    "from nltk.corpus import stopwords\n",
    "from nltk.tokenize import word_tokenize \n",
    "nltk.download('stopwords')\n",
    "nltk.download('punkt')\n",
    "lists = stopwords.words('english')"
   ]
  },
  {
   "cell_type": "code",
   "execution_count": 7,
   "id": "97b69bb1",
   "metadata": {
    "execution": {
     "iopub.execute_input": "2024-11-25T02:51:38.867269Z",
     "iopub.status.busy": "2024-11-25T02:51:38.866981Z",
     "iopub.status.idle": "2024-11-25T02:51:38.878242Z",
     "shell.execute_reply": "2024-11-25T02:51:38.877505Z"
    },
    "papermill": {
     "duration": 0.02008,
     "end_time": "2024-11-25T02:51:38.879857",
     "exception": false,
     "start_time": "2024-11-25T02:51:38.859777",
     "status": "completed"
    },
    "tags": []
   },
   "outputs": [],
   "source": [
    "stopwords_list = ['i','I', 'am', 'is','are','this','that','then','those','have','has','it','can','could','the','had','was','were','been','them','what',\n",
    "                  'yet', 'though', 'wherein', 'really', 'show', 'then', 'rather', 'same', 'con', 'call', 'is', 'twenty', 'side', 'go', 'namely',\n",
    "                  'every', 'top', 'for', \"'m\", 'with', 'either', 'because', 'two', 'well', 'when', 'those', 'under', 'thin', 'amount', 'upon', \n",
    "                  'kg', 'the', \"that'll\", 'ca', 'even', 'very', 'into', 'by', '‘m', 'keep', 'although', 'done', 'bottom', 'detail', 'whatever', \n",
    "                  'from', 'formerly', 'these', 'enough', 'twelve', 'of', 'too', 'already', 'move', 'something', 'few', 'nothing', 'they', 'does',\n",
    "                  'us', 'next', 'cry', 'but', 'eight', '‘s', 'however', 'four', \"'ll\", 'has', 'over', 'someone', 'afterwards', 'myself', 'have',\n",
    "                  'would', 'anywhere', 'hereupon', 'using', 'everything', 'his', 'put', 'many', 'more', 'within', 'which', 'describe', 'thereby',\n",
    "                  'nine', 'elsewhere', 'other', 'he', 'if', 'per', 'your', 's', 'be', 'than', 'now', 'sometime', 'herein', 'why', '‘d', 'whereas',\n",
    "                  'behind', 'couldnt', 'de', \"'re\", 'least', 'latter', 'whereafter', 'part', 'after', 'front', 'interest', \"you'd\", 'whose', 'fire',\n",
    "                  'sincere', 'down', 'to', 'whence', 'ours', \"'s\", 'all', 'noone', 'just', 'anyhow', 'ie', 'having', 'her', 'been', 'get', 'former', \n",
    "                  'throughout', 'above', '’d', 'cannot', 'almost', 'do', 'quite', 'seem', 'give', 'first', 'several', 'also', 'seems', 'became', '’m',\n",
    "                  'sixty', 'anyway', '‘re', 'on', \"you're\", 'onto', 'co', 'third', 'fifty', 'had', 'seemed', '’s', 'yourselves', 'until', 'an', 'mine',\n",
    "                  'across', 'sometimes', 'hereby', 'eleven', 'might', 'mostly', 'un', 'i', \"'d\", 'itself', 'most', 'beforehand', 'five', 'beyond',\n",
    "                  'herself', \"you've\", 'unless', 'regarding', 'there', 'doesn', 'while', 'whoever', \"should've\", 'whereupon', 'name', 'further', 'o', \n",
    "                  'nobody', 'whereby', 'others', 'between', 'thus', 'any', \"you'll\", 'found', 'amongst', 'hers', 'wherever', 'ltd', 'still', 'somehow',\n",
    "                  'often', 'km', 'becoming', 'six', 'can', \"'ve\", 'make', 'hence', 'around', 'both', 'our', 'along', 'latterly', 'please', 'via', 'whole',\n",
    "                  'system', 've', 'd', 'you', 'themselves', 'here', 'used', 'in', 'forty', 'each', 'find', 'during', 'ain', 'ten', 'him', 'nevertheless',\n",
    "                  \"she's\", 'me', 'them', 'ma', 'meanwhile', 'and', 'y', 'did', 'fifteen', 'serious', '’re', \"it's\", '’ll', 'that', 'alone', 'together', \n",
    "                  'where', 'hereafter', 'once', 'himself', 'could', 'made', 'among', 'whom', 'cant', 'doing', 'again', 'therefore', 'beside', 'hundred',\n",
    "                  'three', 'etc', 'moreover', 'various', 'may', 'since', 'always', 'seeming', 'toward', 'are', 'll', 'everywhere', 'a', 'empty', 'yours',\n",
    "                  'theirs', 'back', 'else', 'own', 'as', 'somewhere', 'bill', '‘ll', 're', 'through', 'last', 'nowhere', 'what', 'take', 'computer',\n",
    "                  'yourself', 'eg', 'perhaps', 'thereupon', 'ourselves', 'against', 'inc', 'she', 'whether', 'their', 'm', 'such', 'thick', 'anything',\n",
    "                  '’ve', 'neither', 'none', 'amoungst', 'one', 'were', 'thru', 'am', 'about', 'without', 'up', 'otherwise', 'except', 'who', 'due',\n",
    "                  'thereafter', 'ever', 'much', 'out', 'how', 'whenever', 'before', 'it', 'some', 'being', 'mill', 'or', 'its', 'will', 'become',\n",
    "                  'besides', 'say', 'therein', 'another', 'see', 'anyone', 'becomes', 'never', 'towards', 'everyone', 'below', 'full', 'my', 'only', \n",
    "                  'fill', 'we', 'should', 'thence', 'indeed', 'this', 'was', 'less', 'so', 't', 'at', 'must', 'whither', 'off','whose','whom','who','do','did','does'\n",
    "]"
   ]
  },
  {
   "cell_type": "markdown",
   "id": "7db38427",
   "metadata": {
    "papermill": {
     "duration": 0.005631,
     "end_time": "2024-11-25T02:51:38.891464",
     "exception": false,
     "start_time": "2024-11-25T02:51:38.885833",
     "status": "completed"
    },
    "tags": []
   },
   "source": [
    "### Remove stopwords, emails, link, special char, and Lowercase all the text"
   ]
  },
  {
   "cell_type": "code",
   "execution_count": 8,
   "id": "c9708445",
   "metadata": {
    "execution": {
     "iopub.execute_input": "2024-11-25T02:51:38.904531Z",
     "iopub.status.busy": "2024-11-25T02:51:38.904232Z",
     "iopub.status.idle": "2024-11-25T02:51:38.909536Z",
     "shell.execute_reply": "2024-11-25T02:51:38.908760Z"
    },
    "papermill": {
     "duration": 0.013826,
     "end_time": "2024-11-25T02:51:38.911292",
     "exception": false,
     "start_time": "2024-11-25T02:51:38.897466",
     "status": "completed"
    },
    "tags": []
   },
   "outputs": [
    {
     "name": "stdout",
     "output_type": "stream",
     "text": [
      "CPU times: user 4 µs, sys: 0 ns, total: 4 µs\n",
      "Wall time: 7.63 µs\n"
     ]
    }
   ],
   "source": [
    "%%time\n",
    "def remove_stopwords(text):\n",
    "  token = word_tokenize(text)\n",
    "  token_without_stopwords = []\n",
    "  for words in token:\n",
    "    if words not in stopwords_list:\n",
    "      token_without_stopwords.append(words)\n",
    "  \n",
    "  text = \" \".join(token_without_stopwords)\n",
    "  return text"
   ]
  },
  {
   "cell_type": "code",
   "execution_count": 9,
   "id": "1ebcfa8d",
   "metadata": {
    "execution": {
     "iopub.execute_input": "2024-11-25T02:51:38.924174Z",
     "iopub.status.busy": "2024-11-25T02:51:38.923905Z",
     "iopub.status.idle": "2024-11-25T02:54:09.894213Z",
     "shell.execute_reply": "2024-11-25T02:54:09.893097Z"
    },
    "papermill": {
     "duration": 150.986307,
     "end_time": "2024-11-25T02:54:09.903597",
     "exception": false,
     "start_time": "2024-11-25T02:51:38.917290",
     "status": "completed"
    },
    "tags": []
   },
   "outputs": [
    {
     "data": {
      "text/html": [
       "<div>\n",
       "<style scoped>\n",
       "    .dataframe tbody tr th:only-of-type {\n",
       "        vertical-align: middle;\n",
       "    }\n",
       "\n",
       "    .dataframe tbody tr th {\n",
       "        vertical-align: top;\n",
       "    }\n",
       "\n",
       "    .dataframe thead th {\n",
       "        text-align: right;\n",
       "    }\n",
       "</style>\n",
       "<table border=\"1\" class=\"dataframe\">\n",
       "  <thead>\n",
       "    <tr style=\"text-align: right;\">\n",
       "      <th></th>\n",
       "      <th>Unnamed: 0</th>\n",
       "      <th>text</th>\n",
       "      <th>class</th>\n",
       "    </tr>\n",
       "  </thead>\n",
       "  <tbody>\n",
       "    <tr>\n",
       "      <th>0</th>\n",
       "      <td>2</td>\n",
       "      <td>Ex Wife Threatening SuicideRecently left wife ...</td>\n",
       "      <td>suicide</td>\n",
       "    </tr>\n",
       "    <tr>\n",
       "      <th>3</th>\n",
       "      <td>8</td>\n",
       "      <td>need helpjust help im crying hard</td>\n",
       "      <td>suicide</td>\n",
       "    </tr>\n",
       "    <tr>\n",
       "      <th>4</th>\n",
       "      <td>9</td>\n",
       "      <td>’ lostHello , Adam ( 16 ) ’ struggling years ’...</td>\n",
       "      <td>suicide</td>\n",
       "    </tr>\n",
       "    <tr>\n",
       "      <th>5</th>\n",
       "      <td>11</td>\n",
       "      <td>Honetly idkI dont know im . feel like . All fe...</td>\n",
       "      <td>suicide</td>\n",
       "    </tr>\n",
       "    <tr>\n",
       "      <th>6</th>\n",
       "      <td>12</td>\n",
       "      <td>[ Trigger warning ] Excuse self inflicted burn...</td>\n",
       "      <td>suicide</td>\n",
       "    </tr>\n",
       "  </tbody>\n",
       "</table>\n",
       "</div>"
      ],
      "text/plain": [
       "   Unnamed: 0                                               text    class\n",
       "0           2  Ex Wife Threatening SuicideRecently left wife ...  suicide\n",
       "3           8                  need helpjust help im crying hard  suicide\n",
       "4           9  ’ lostHello , Adam ( 16 ) ’ struggling years ’...  suicide\n",
       "5          11  Honetly idkI dont know im . feel like . All fe...  suicide\n",
       "6          12  [ Trigger warning ] Excuse self inflicted burn...  suicide"
      ]
     },
     "execution_count": 9,
     "metadata": {},
     "output_type": "execute_result"
    }
   ],
   "source": [
    "dataframe['text'] = dataframe['text'].apply(remove_stopwords)\n",
    "dataframe.head()"
   ]
  },
  {
   "cell_type": "code",
   "execution_count": 10,
   "id": "86e50f25",
   "metadata": {
    "execution": {
     "iopub.execute_input": "2024-11-25T02:54:09.917214Z",
     "iopub.status.busy": "2024-11-25T02:54:09.916912Z",
     "iopub.status.idle": "2024-11-25T02:54:09.923483Z",
     "shell.execute_reply": "2024-11-25T02:54:09.922753Z"
    },
    "papermill": {
     "duration": 0.015121,
     "end_time": "2024-11-25T02:54:09.925211",
     "exception": false,
     "start_time": "2024-11-25T02:54:09.910090",
     "status": "completed"
    },
    "tags": []
   },
   "outputs": [
    {
     "name": "stdout",
     "output_type": "stream",
     "text": [
      "CPU times: user 474 µs, sys: 0 ns, total: 474 µs\n",
      "Wall time: 444 µs\n"
     ]
    }
   ],
   "source": [
    "%%time\n",
    "from tqdm._tqdm_notebook import tqdm_notebook\n",
    "tqdm_notebook.pandas()\n",
    "def text_preprocessing(df,col_name):\n",
    "    column = col_name\n",
    "    df[column] = df[column].progress_apply(lambda x:str(x).lower())\n",
    "    df[column] = df[column].progress_apply(lambda x: th.remove_emails(x))\n",
    "    df[column] = df[column].progress_apply(lambda x: th.remove_html_tags(x))\n",
    "    df[column] = df[column].progress_apply(lambda x: th.remove_special_chars(x))\n",
    "    df[column] = df[column].progress_apply(lambda x: th.remove_accented_chars(x))\n",
    "    return(df)"
   ]
  },
  {
   "cell_type": "code",
   "execution_count": 11,
   "id": "7641908b",
   "metadata": {
    "execution": {
     "iopub.execute_input": "2024-11-25T02:54:09.938148Z",
     "iopub.status.busy": "2024-11-25T02:54:09.937893Z",
     "iopub.status.idle": "2024-11-25T02:54:31.332746Z",
     "shell.execute_reply": "2024-11-25T02:54:31.331911Z"
    },
    "papermill": {
     "duration": 21.403114,
     "end_time": "2024-11-25T02:54:31.334416",
     "exception": false,
     "start_time": "2024-11-25T02:54:09.931302",
     "status": "completed"
    },
    "tags": []
   },
   "outputs": [
    {
     "data": {
      "application/vnd.jupyter.widget-view+json": {
       "model_id": "ac7f1ea4231c4e33906013976c3fb5c4",
       "version_major": 2,
       "version_minor": 0
      },
      "text/plain": [
       "  0%|          | 0/100000 [00:00<?, ?it/s]"
      ]
     },
     "metadata": {},
     "output_type": "display_data"
    },
    {
     "data": {
      "application/vnd.jupyter.widget-view+json": {
       "model_id": "5803ee109dc7400eb58041fda3ee4d29",
       "version_major": 2,
       "version_minor": 0
      },
      "text/plain": [
       "  0%|          | 0/100000 [00:00<?, ?it/s]"
      ]
     },
     "metadata": {},
     "output_type": "display_data"
    },
    {
     "data": {
      "application/vnd.jupyter.widget-view+json": {
       "model_id": "789185c58acc40549d60f6719c73de05",
       "version_major": 2,
       "version_minor": 0
      },
      "text/plain": [
       "  0%|          | 0/100000 [00:00<?, ?it/s]"
      ]
     },
     "metadata": {},
     "output_type": "display_data"
    },
    {
     "name": "stderr",
     "output_type": "stream",
     "text": [
      "/opt/conda/lib/python3.10/site-packages/text_hammer/utils.py:97: MarkupResemblesLocatorWarning: The input looks more like a filename than markup. You may want to open this file and pass the filehandle into Beautiful Soup.\n",
      "  return BeautifulSoup(x, 'lxml').get_text().strip()\n"
     ]
    },
    {
     "data": {
      "application/vnd.jupyter.widget-view+json": {
       "model_id": "1edd2ef71cac46fa8cd9f70610fd25b3",
       "version_major": 2,
       "version_minor": 0
      },
      "text/plain": [
       "  0%|          | 0/100000 [00:00<?, ?it/s]"
      ]
     },
     "metadata": {},
     "output_type": "display_data"
    },
    {
     "data": {
      "application/vnd.jupyter.widget-view+json": {
       "model_id": "aa2d3ba8008f492f9245c87ffa78c7e5",
       "version_major": 2,
       "version_minor": 0
      },
      "text/plain": [
       "  0%|          | 0/100000 [00:00<?, ?it/s]"
      ]
     },
     "metadata": {},
     "output_type": "display_data"
    }
   ],
   "source": [
    "dataframe = text_preprocessing(dataframe, 'text')"
   ]
  },
  {
   "cell_type": "markdown",
   "id": "35cca890",
   "metadata": {
    "papermill": {
     "duration": 0.006449,
     "end_time": "2024-11-25T02:54:31.348142",
     "exception": false,
     "start_time": "2024-11-25T02:54:31.341693",
     "status": "completed"
    },
    "tags": []
   },
   "source": [
    "## Tokenization"
   ]
  },
  {
   "cell_type": "code",
   "execution_count": 12,
   "id": "48c0a603",
   "metadata": {
    "execution": {
     "iopub.execute_input": "2024-11-25T02:54:31.362351Z",
     "iopub.status.busy": "2024-11-25T02:54:31.362020Z",
     "iopub.status.idle": "2024-11-25T02:54:31.366069Z",
     "shell.execute_reply": "2024-11-25T02:54:31.365433Z"
    },
    "papermill": {
     "duration": 0.012926,
     "end_time": "2024-11-25T02:54:31.367575",
     "exception": false,
     "start_time": "2024-11-25T02:54:31.354649",
     "status": "completed"
    },
    "tags": []
   },
   "outputs": [],
   "source": [
    "X = dataframe['text']\n",
    "y = dataframe['class']"
   ]
  },
  {
   "cell_type": "code",
   "execution_count": 13,
   "id": "b1949ff6",
   "metadata": {
    "execution": {
     "iopub.execute_input": "2024-11-25T02:54:31.381501Z",
     "iopub.status.busy": "2024-11-25T02:54:31.381260Z",
     "iopub.status.idle": "2024-11-25T02:54:46.152061Z",
     "shell.execute_reply": "2024-11-25T02:54:46.151075Z"
    },
    "papermill": {
     "duration": 14.78017,
     "end_time": "2024-11-25T02:54:46.154241",
     "exception": false,
     "start_time": "2024-11-25T02:54:31.374071",
     "status": "completed"
    },
    "tags": []
   },
   "outputs": [],
   "source": [
    "from tensorflow.keras.preprocessing.text import Tokenizer\n",
    " # this means 20000 unique words can be taken \n",
    "tokenizer=Tokenizer(num_words= 20000,lower=True)\n",
    "tokenizer.fit_on_texts(X)"
   ]
  },
  {
   "cell_type": "code",
   "execution_count": 14,
   "id": "ad600d24",
   "metadata": {
    "execution": {
     "iopub.execute_input": "2024-11-25T02:54:46.169779Z",
     "iopub.status.busy": "2024-11-25T02:54:46.169231Z",
     "iopub.status.idle": "2024-11-25T02:54:49.479640Z",
     "shell.execute_reply": "2024-11-25T02:54:49.478598Z"
    },
    "papermill": {
     "duration": 3.32,
     "end_time": "2024-11-25T02:54:49.481622",
     "exception": false,
     "start_time": "2024-11-25T02:54:46.161622",
     "status": "completed"
    },
    "tags": []
   },
   "outputs": [
    {
     "data": {
      "text/plain": [
       "array([  395,   570,  2359,   104,   570,    27,  1157,   831,  1188,\n",
       "         256,  1536,   353,    95,    90,   873,  2359,    42, 13915,\n",
       "         399,    95,   141,   541, 12991,   210,   196,   116,     5,\n",
       "          75,     9,  3427,   871,    29,   438,    88,   336,   432,\n",
       "         151,   764,    38,   570,     3,   240,    61,  1157,   254,\n",
       "          68,  1945,   600,   101,    16,   114,     1,   255,     0,\n",
       "           0,     0,     0,     0,     0,     0,     0,     0,     0,\n",
       "           0,     0,     0,     0,     0,     0,     0,     0,     0,\n",
       "           0,     0,     0,     0,     0,     0,     0,     0,     0,\n",
       "           0,     0,     0,     0,     0,     0,     0,     0,     0,\n",
       "           0,     0,     0,     0,     0,     0,     0,     0,     0,\n",
       "           0,     0,     0,     0,     0,     0,     0,     0,     0,\n",
       "           0,     0,     0,     0,     0,     0,     0,     0,     0,\n",
       "           0,     0,     0,     0,     0,     0,     0,     0,     0,\n",
       "           0,     0,     0,     0,     0,     0,     0,     0,     0,\n",
       "           0,     0,     0,     0,     0,     0,     0,     0,     0,\n",
       "           0,     0,     0,     0,     0,     0,     0,     0,     0,\n",
       "           0,     0,     0,     0,     0,     0,     0,     0,     0,\n",
       "           0,     0,     0,     0,     0,     0,     0,     0,     0,\n",
       "           0,     0,     0,     0,     0,     0,     0,     0,     0,\n",
       "           0,     0,     0,     0,     0,     0,     0,     0,     0,\n",
       "           0,     0,     0,     0,     0,     0,     0,     0,     0,\n",
       "           0,     0], dtype=int32)"
      ]
     },
     "execution_count": 14,
     "metadata": {},
     "output_type": "execute_result"
    }
   ],
   "source": [
    "from tensorflow.keras.preprocessing.sequence import pad_sequences\n",
    "X = tokenizer.texts_to_sequences(X) # this converts texts into some numeric sequences \n",
    "X = pad_sequences(X,maxlen=200,padding='post') # this makes the length of all numeric sequences equal \n",
    "X[0]"
   ]
  },
  {
   "cell_type": "code",
   "execution_count": 15,
   "id": "12279b4e",
   "metadata": {
    "execution": {
     "iopub.execute_input": "2024-11-25T02:54:49.497556Z",
     "iopub.status.busy": "2024-11-25T02:54:49.497293Z",
     "iopub.status.idle": "2024-11-25T02:54:49.502623Z",
     "shell.execute_reply": "2024-11-25T02:54:49.501783Z"
    },
    "papermill": {
     "duration": 0.014863,
     "end_time": "2024-11-25T02:54:49.504135",
     "exception": false,
     "start_time": "2024-11-25T02:54:49.489272",
     "status": "completed"
    },
    "tags": []
   },
   "outputs": [
    {
     "data": {
      "text/plain": [
       "(100000, 200)"
      ]
     },
     "execution_count": 15,
     "metadata": {},
     "output_type": "execute_result"
    }
   ],
   "source": [
    "X.shape"
   ]
  },
  {
   "cell_type": "code",
   "execution_count": 16,
   "id": "8e02a6b2",
   "metadata": {
    "execution": {
     "iopub.execute_input": "2024-11-25T02:54:49.518905Z",
     "iopub.status.busy": "2024-11-25T02:54:49.518595Z",
     "iopub.status.idle": "2024-11-25T02:54:49.624392Z",
     "shell.execute_reply": "2024-11-25T02:54:49.623632Z"
    },
    "papermill": {
     "duration": 0.115324,
     "end_time": "2024-11-25T02:54:49.626316",
     "exception": false,
     "start_time": "2024-11-25T02:54:49.510992",
     "status": "completed"
    },
    "tags": []
   },
   "outputs": [],
   "source": [
    "import pickle\n",
    "\n",
    "# Save tokenizer to file\n",
    "with open('/kaggle/working/tokenizer.pkl', 'wb') as f:\n",
    "    pickle.dump(tokenizer, f)"
   ]
  },
  {
   "cell_type": "markdown",
   "id": "66b37bb7",
   "metadata": {
    "papermill": {
     "duration": 0.006704,
     "end_time": "2024-11-25T02:54:49.640241",
     "exception": false,
     "start_time": "2024-11-25T02:54:49.633537",
     "status": "completed"
    },
    "tags": []
   },
   "source": [
    "### Word2Vec"
   ]
  },
  {
   "cell_type": "code",
   "execution_count": 17,
   "id": "fd96e68d",
   "metadata": {
    "execution": {
     "iopub.execute_input": "2024-11-25T02:54:49.654671Z",
     "iopub.status.busy": "2024-11-25T02:54:49.654376Z",
     "iopub.status.idle": "2024-11-25T02:55:45.949437Z",
     "shell.execute_reply": "2024-11-25T02:55:45.948688Z"
    },
    "papermill": {
     "duration": 56.304799,
     "end_time": "2024-11-25T02:55:45.951700",
     "exception": false,
     "start_time": "2024-11-25T02:54:49.646901",
     "status": "completed"
    },
    "tags": []
   },
   "outputs": [
    {
     "name": "stdout",
     "output_type": "stream",
     "text": [
      "[==================================================] 100.0% 128.1/128.1MB downloaded\n"
     ]
    }
   ],
   "source": [
    "# pip install gensim\n",
    "import gensim.downloader as api\n",
    "glove_gensim  = api.load('glove-wiki-gigaword-100') #100 dimension"
   ]
  },
  {
   "cell_type": "code",
   "execution_count": 18,
   "id": "6357024a",
   "metadata": {
    "execution": {
     "iopub.execute_input": "2024-11-25T02:55:47.516199Z",
     "iopub.status.busy": "2024-11-25T02:55:47.515831Z",
     "iopub.status.idle": "2024-11-25T02:56:03.330073Z",
     "shell.execute_reply": "2024-11-25T02:56:03.329088Z"
    },
    "papermill": {
     "duration": 16.604802,
     "end_time": "2024-11-25T02:56:03.332249",
     "exception": false,
     "start_time": "2024-11-25T02:55:46.727447",
     "status": "completed"
    },
    "tags": []
   },
   "outputs": [],
   "source": [
    "import numpy as np\n",
    "from gensim.models import KeyedVectors\n",
    "vector_size = 100\n",
    "num_words = 20000\n",
    "gensim_weight_matrix = np.zeros((num_words ,vector_size))\n",
    "gensim_weight_matrix.shape\n",
    "for word, index in tokenizer.word_index.items():\n",
    "    if index < num_words: # since index starts with zero \n",
    "        if word in glove_gensim.index_to_key:\n",
    "            gensim_weight_matrix[index] = glove_gensim[word]\n",
    "        else:\n",
    "            gensim_weight_matrix[index] = np.zeros(100)"
   ]
  },
  {
   "cell_type": "markdown",
   "id": "48a360ae",
   "metadata": {
    "papermill": {
     "duration": 0.82238,
     "end_time": "2024-11-25T02:56:04.882830",
     "exception": false,
     "start_time": "2024-11-25T02:56:04.060450",
     "status": "completed"
    },
    "tags": []
   },
   "source": [
    "## Model Building"
   ]
  },
  {
   "cell_type": "code",
   "execution_count": 19,
   "id": "185368cc",
   "metadata": {
    "execution": {
     "iopub.execute_input": "2024-11-25T02:56:06.387528Z",
     "iopub.status.busy": "2024-11-25T02:56:06.387174Z",
     "iopub.status.idle": "2024-11-25T02:56:06.396605Z",
     "shell.execute_reply": "2024-11-25T02:56:06.395977Z"
    },
    "papermill": {
     "duration": 0.733279,
     "end_time": "2024-11-25T02:56:06.398240",
     "exception": false,
     "start_time": "2024-11-25T02:56:05.664961",
     "status": "completed"
    },
    "tags": []
   },
   "outputs": [],
   "source": [
    "from tensorflow.keras.preprocessing.text import Tokenizer\n",
    "from tensorflow.keras.preprocessing.sequence import pad_sequences\n",
    "import gensim.downloader as api\n",
    "import numpy as np\n",
    "from sklearn.model_selection import train_test_split\n",
    "from keras.models import Sequential\n",
    "from keras.layers import Embedding, Dropout, Dense\n",
    "from keras.layers import GRU\n",
    "from keras.callbacks import EarlyStopping, ModelCheckpoint\n",
    "from tensorflow.keras.models import Sequential\n",
    "from tensorflow.keras.layers import Embedding, GRU, Dense, Dropout, Input, BatchNormalization\n"
   ]
  },
  {
   "cell_type": "code",
   "execution_count": 20,
   "id": "f1466340",
   "metadata": {
    "execution": {
     "iopub.execute_input": "2024-11-25T02:56:07.965362Z",
     "iopub.status.busy": "2024-11-25T02:56:07.964979Z",
     "iopub.status.idle": "2024-11-25T02:56:08.016685Z",
     "shell.execute_reply": "2024-11-25T02:56:08.015967Z"
    },
    "papermill": {
     "duration": 0.858078,
     "end_time": "2024-11-25T02:56:08.018714",
     "exception": false,
     "start_time": "2024-11-25T02:56:07.160636",
     "status": "completed"
    },
    "tags": []
   },
   "outputs": [],
   "source": [
    "from sklearn.model_selection import train_test_split\n",
    "y=pd.get_dummies(dataframe['class'])\n",
    "X_train, X_test, y_train, y_test = train_test_split(X,y, test_size = 0.3, random_state = 42)"
   ]
  },
  {
   "cell_type": "code",
   "execution_count": 21,
   "id": "67f20ff3",
   "metadata": {
    "execution": {
     "iopub.execute_input": "2024-11-25T02:56:09.524124Z",
     "iopub.status.busy": "2024-11-25T02:56:09.523752Z",
     "iopub.status.idle": "2024-11-25T02:56:10.727863Z",
     "shell.execute_reply": "2024-11-25T02:56:10.727158Z"
    },
    "papermill": {
     "duration": 1.98048,
     "end_time": "2024-11-25T02:56:10.729413",
     "exception": false,
     "start_time": "2024-11-25T02:56:08.748933",
     "status": "completed"
    },
    "tags": []
   },
   "outputs": [
    {
     "data": {
      "text/html": [
       "<pre style=\"white-space:pre;overflow-x:auto;line-height:normal;font-family:Menlo,'DejaVu Sans Mono',consolas,'Courier New',monospace\"><span style=\"font-weight: bold\">Model: \"sequential\"</span>\n",
       "</pre>\n"
      ],
      "text/plain": [
       "\u001b[1mModel: \"sequential\"\u001b[0m\n"
      ]
     },
     "metadata": {},
     "output_type": "display_data"
    },
    {
     "data": {
      "text/html": [
       "<pre style=\"white-space:pre;overflow-x:auto;line-height:normal;font-family:Menlo,'DejaVu Sans Mono',consolas,'Courier New',monospace\">┏━━━━━━━━━━━━━━━━━━━━━━━━━━━━━━━━━┳━━━━━━━━━━━━━━━━━━━━━━━━┳━━━━━━━━━━━━━━━┓\n",
       "┃<span style=\"font-weight: bold\"> Layer (type)                    </span>┃<span style=\"font-weight: bold\"> Output Shape           </span>┃<span style=\"font-weight: bold\">       Param # </span>┃\n",
       "┡━━━━━━━━━━━━━━━━━━━━━━━━━━━━━━━━━╇━━━━━━━━━━━━━━━━━━━━━━━━╇━━━━━━━━━━━━━━━┩\n",
       "│ embedding (<span style=\"color: #0087ff; text-decoration-color: #0087ff\">Embedding</span>)           │ (<span style=\"color: #00d7ff; text-decoration-color: #00d7ff\">None</span>, <span style=\"color: #00af00; text-decoration-color: #00af00\">200</span>, <span style=\"color: #00af00; text-decoration-color: #00af00\">100</span>)       │     <span style=\"color: #00af00; text-decoration-color: #00af00\">2,000,000</span> │\n",
       "├─────────────────────────────────┼────────────────────────┼───────────────┤\n",
       "│ dropout (<span style=\"color: #0087ff; text-decoration-color: #0087ff\">Dropout</span>)               │ (<span style=\"color: #00d7ff; text-decoration-color: #00d7ff\">None</span>, <span style=\"color: #00af00; text-decoration-color: #00af00\">200</span>, <span style=\"color: #00af00; text-decoration-color: #00af00\">100</span>)       │             <span style=\"color: #00af00; text-decoration-color: #00af00\">0</span> │\n",
       "├─────────────────────────────────┼────────────────────────┼───────────────┤\n",
       "│ gru (<span style=\"color: #0087ff; text-decoration-color: #0087ff\">GRU</span>)                       │ (<span style=\"color: #00d7ff; text-decoration-color: #00d7ff\">None</span>, <span style=\"color: #00af00; text-decoration-color: #00af00\">200</span>, <span style=\"color: #00af00; text-decoration-color: #00af00\">100</span>)       │        <span style=\"color: #00af00; text-decoration-color: #00af00\">60,600</span> │\n",
       "├─────────────────────────────────┼────────────────────────┼───────────────┤\n",
       "│ dropout_1 (<span style=\"color: #0087ff; text-decoration-color: #0087ff\">Dropout</span>)             │ (<span style=\"color: #00d7ff; text-decoration-color: #00d7ff\">None</span>, <span style=\"color: #00af00; text-decoration-color: #00af00\">200</span>, <span style=\"color: #00af00; text-decoration-color: #00af00\">100</span>)       │             <span style=\"color: #00af00; text-decoration-color: #00af00\">0</span> │\n",
       "├─────────────────────────────────┼────────────────────────┼───────────────┤\n",
       "│ gru_1 (<span style=\"color: #0087ff; text-decoration-color: #0087ff\">GRU</span>)                     │ (<span style=\"color: #00d7ff; text-decoration-color: #00d7ff\">None</span>, <span style=\"color: #00af00; text-decoration-color: #00af00\">200</span>, <span style=\"color: #00af00; text-decoration-color: #00af00\">100</span>)       │        <span style=\"color: #00af00; text-decoration-color: #00af00\">60,600</span> │\n",
       "├─────────────────────────────────┼────────────────────────┼───────────────┤\n",
       "│ dropout_2 (<span style=\"color: #0087ff; text-decoration-color: #0087ff\">Dropout</span>)             │ (<span style=\"color: #00d7ff; text-decoration-color: #00d7ff\">None</span>, <span style=\"color: #00af00; text-decoration-color: #00af00\">200</span>, <span style=\"color: #00af00; text-decoration-color: #00af00\">100</span>)       │             <span style=\"color: #00af00; text-decoration-color: #00af00\">0</span> │\n",
       "├─────────────────────────────────┼────────────────────────┼───────────────┤\n",
       "│ gru_2 (<span style=\"color: #0087ff; text-decoration-color: #0087ff\">GRU</span>)                     │ (<span style=\"color: #00d7ff; text-decoration-color: #00d7ff\">None</span>, <span style=\"color: #00af00; text-decoration-color: #00af00\">100</span>)            │        <span style=\"color: #00af00; text-decoration-color: #00af00\">60,600</span> │\n",
       "├─────────────────────────────────┼────────────────────────┼───────────────┤\n",
       "│ batch_normalization             │ (<span style=\"color: #00d7ff; text-decoration-color: #00d7ff\">None</span>, <span style=\"color: #00af00; text-decoration-color: #00af00\">100</span>)            │           <span style=\"color: #00af00; text-decoration-color: #00af00\">400</span> │\n",
       "│ (<span style=\"color: #0087ff; text-decoration-color: #0087ff\">BatchNormalization</span>)            │                        │               │\n",
       "├─────────────────────────────────┼────────────────────────┼───────────────┤\n",
       "│ dropout_3 (<span style=\"color: #0087ff; text-decoration-color: #0087ff\">Dropout</span>)             │ (<span style=\"color: #00d7ff; text-decoration-color: #00d7ff\">None</span>, <span style=\"color: #00af00; text-decoration-color: #00af00\">100</span>)            │             <span style=\"color: #00af00; text-decoration-color: #00af00\">0</span> │\n",
       "├─────────────────────────────────┼────────────────────────┼───────────────┤\n",
       "│ dense (<span style=\"color: #0087ff; text-decoration-color: #0087ff\">Dense</span>)                   │ (<span style=\"color: #00d7ff; text-decoration-color: #00d7ff\">None</span>, <span style=\"color: #00af00; text-decoration-color: #00af00\">64</span>)             │         <span style=\"color: #00af00; text-decoration-color: #00af00\">6,464</span> │\n",
       "├─────────────────────────────────┼────────────────────────┼───────────────┤\n",
       "│ dropout_4 (<span style=\"color: #0087ff; text-decoration-color: #0087ff\">Dropout</span>)             │ (<span style=\"color: #00d7ff; text-decoration-color: #00d7ff\">None</span>, <span style=\"color: #00af00; text-decoration-color: #00af00\">64</span>)             │             <span style=\"color: #00af00; text-decoration-color: #00af00\">0</span> │\n",
       "├─────────────────────────────────┼────────────────────────┼───────────────┤\n",
       "│ dense_1 (<span style=\"color: #0087ff; text-decoration-color: #0087ff\">Dense</span>)                 │ (<span style=\"color: #00d7ff; text-decoration-color: #00d7ff\">None</span>, <span style=\"color: #00af00; text-decoration-color: #00af00\">2</span>)              │           <span style=\"color: #00af00; text-decoration-color: #00af00\">130</span> │\n",
       "└─────────────────────────────────┴────────────────────────┴───────────────┘\n",
       "</pre>\n"
      ],
      "text/plain": [
       "┏━━━━━━━━━━━━━━━━━━━━━━━━━━━━━━━━━┳━━━━━━━━━━━━━━━━━━━━━━━━┳━━━━━━━━━━━━━━━┓\n",
       "┃\u001b[1m \u001b[0m\u001b[1mLayer (type)                   \u001b[0m\u001b[1m \u001b[0m┃\u001b[1m \u001b[0m\u001b[1mOutput Shape          \u001b[0m\u001b[1m \u001b[0m┃\u001b[1m \u001b[0m\u001b[1m      Param #\u001b[0m\u001b[1m \u001b[0m┃\n",
       "┡━━━━━━━━━━━━━━━━━━━━━━━━━━━━━━━━━╇━━━━━━━━━━━━━━━━━━━━━━━━╇━━━━━━━━━━━━━━━┩\n",
       "│ embedding (\u001b[38;5;33mEmbedding\u001b[0m)           │ (\u001b[38;5;45mNone\u001b[0m, \u001b[38;5;34m200\u001b[0m, \u001b[38;5;34m100\u001b[0m)       │     \u001b[38;5;34m2,000,000\u001b[0m │\n",
       "├─────────────────────────────────┼────────────────────────┼───────────────┤\n",
       "│ dropout (\u001b[38;5;33mDropout\u001b[0m)               │ (\u001b[38;5;45mNone\u001b[0m, \u001b[38;5;34m200\u001b[0m, \u001b[38;5;34m100\u001b[0m)       │             \u001b[38;5;34m0\u001b[0m │\n",
       "├─────────────────────────────────┼────────────────────────┼───────────────┤\n",
       "│ gru (\u001b[38;5;33mGRU\u001b[0m)                       │ (\u001b[38;5;45mNone\u001b[0m, \u001b[38;5;34m200\u001b[0m, \u001b[38;5;34m100\u001b[0m)       │        \u001b[38;5;34m60,600\u001b[0m │\n",
       "├─────────────────────────────────┼────────────────────────┼───────────────┤\n",
       "│ dropout_1 (\u001b[38;5;33mDropout\u001b[0m)             │ (\u001b[38;5;45mNone\u001b[0m, \u001b[38;5;34m200\u001b[0m, \u001b[38;5;34m100\u001b[0m)       │             \u001b[38;5;34m0\u001b[0m │\n",
       "├─────────────────────────────────┼────────────────────────┼───────────────┤\n",
       "│ gru_1 (\u001b[38;5;33mGRU\u001b[0m)                     │ (\u001b[38;5;45mNone\u001b[0m, \u001b[38;5;34m200\u001b[0m, \u001b[38;5;34m100\u001b[0m)       │        \u001b[38;5;34m60,600\u001b[0m │\n",
       "├─────────────────────────────────┼────────────────────────┼───────────────┤\n",
       "│ dropout_2 (\u001b[38;5;33mDropout\u001b[0m)             │ (\u001b[38;5;45mNone\u001b[0m, \u001b[38;5;34m200\u001b[0m, \u001b[38;5;34m100\u001b[0m)       │             \u001b[38;5;34m0\u001b[0m │\n",
       "├─────────────────────────────────┼────────────────────────┼───────────────┤\n",
       "│ gru_2 (\u001b[38;5;33mGRU\u001b[0m)                     │ (\u001b[38;5;45mNone\u001b[0m, \u001b[38;5;34m100\u001b[0m)            │        \u001b[38;5;34m60,600\u001b[0m │\n",
       "├─────────────────────────────────┼────────────────────────┼───────────────┤\n",
       "│ batch_normalization             │ (\u001b[38;5;45mNone\u001b[0m, \u001b[38;5;34m100\u001b[0m)            │           \u001b[38;5;34m400\u001b[0m │\n",
       "│ (\u001b[38;5;33mBatchNormalization\u001b[0m)            │                        │               │\n",
       "├─────────────────────────────────┼────────────────────────┼───────────────┤\n",
       "│ dropout_3 (\u001b[38;5;33mDropout\u001b[0m)             │ (\u001b[38;5;45mNone\u001b[0m, \u001b[38;5;34m100\u001b[0m)            │             \u001b[38;5;34m0\u001b[0m │\n",
       "├─────────────────────────────────┼────────────────────────┼───────────────┤\n",
       "│ dense (\u001b[38;5;33mDense\u001b[0m)                   │ (\u001b[38;5;45mNone\u001b[0m, \u001b[38;5;34m64\u001b[0m)             │         \u001b[38;5;34m6,464\u001b[0m │\n",
       "├─────────────────────────────────┼────────────────────────┼───────────────┤\n",
       "│ dropout_4 (\u001b[38;5;33mDropout\u001b[0m)             │ (\u001b[38;5;45mNone\u001b[0m, \u001b[38;5;34m64\u001b[0m)             │             \u001b[38;5;34m0\u001b[0m │\n",
       "├─────────────────────────────────┼────────────────────────┼───────────────┤\n",
       "│ dense_1 (\u001b[38;5;33mDense\u001b[0m)                 │ (\u001b[38;5;45mNone\u001b[0m, \u001b[38;5;34m2\u001b[0m)              │           \u001b[38;5;34m130\u001b[0m │\n",
       "└─────────────────────────────────┴────────────────────────┴───────────────┘\n"
      ]
     },
     "metadata": {},
     "output_type": "display_data"
    },
    {
     "data": {
      "text/html": [
       "<pre style=\"white-space:pre;overflow-x:auto;line-height:normal;font-family:Menlo,'DejaVu Sans Mono',consolas,'Courier New',monospace\"><span style=\"font-weight: bold\"> Total params: </span><span style=\"color: #00af00; text-decoration-color: #00af00\">2,188,794</span> (8.35 MB)\n",
       "</pre>\n"
      ],
      "text/plain": [
       "\u001b[1m Total params: \u001b[0m\u001b[38;5;34m2,188,794\u001b[0m (8.35 MB)\n"
      ]
     },
     "metadata": {},
     "output_type": "display_data"
    },
    {
     "data": {
      "text/html": [
       "<pre style=\"white-space:pre;overflow-x:auto;line-height:normal;font-family:Menlo,'DejaVu Sans Mono',consolas,'Courier New',monospace\"><span style=\"font-weight: bold\"> Trainable params: </span><span style=\"color: #00af00; text-decoration-color: #00af00\">188,594</span> (736.70 KB)\n",
       "</pre>\n"
      ],
      "text/plain": [
       "\u001b[1m Trainable params: \u001b[0m\u001b[38;5;34m188,594\u001b[0m (736.70 KB)\n"
      ]
     },
     "metadata": {},
     "output_type": "display_data"
    },
    {
     "data": {
      "text/html": [
       "<pre style=\"white-space:pre;overflow-x:auto;line-height:normal;font-family:Menlo,'DejaVu Sans Mono',consolas,'Courier New',monospace\"><span style=\"font-weight: bold\"> Non-trainable params: </span><span style=\"color: #00af00; text-decoration-color: #00af00\">2,000,200</span> (7.63 MB)\n",
       "</pre>\n"
      ],
      "text/plain": [
       "\u001b[1m Non-trainable params: \u001b[0m\u001b[38;5;34m2,000,200\u001b[0m (7.63 MB)\n"
      ]
     },
     "metadata": {},
     "output_type": "display_data"
    }
   ],
   "source": [
    "EMBEDDING_DIM = 100  # Dimension of word embeddings\n",
    "MAX_NUM_WORDS = 20000  # Maximum number of unique words\n",
    "MAX_SEQUENCE_LENGTH = 200  # Fixed sequence length for all input data\n",
    "# Build the model\n",
    "model = Sequential()\n",
    "\n",
    "# Input layer\n",
    "model.add(Input(shape=(X.shape[1],)))\n",
    "\n",
    "# Embedding layer with pre-trained GloVe embeddings\n",
    "model.add(Embedding(input_dim=MAX_NUM_WORDS,\n",
    "                    output_dim=EMBEDDING_DIM,\n",
    "                    weights=[gensim_weight_matrix],\n",
    "                    trainable=False)) \n",
    "\n",
    "# Dropout layer\n",
    "model.add(Dropout(0.2))\n",
    "\n",
    "# GRU layer 1\n",
    "model.add(GRU(100, return_sequences=True))\n",
    "\n",
    "# Dropout layer\n",
    "model.add(Dropout(0.2))\n",
    "\n",
    "# GRU layer 2\n",
    "model.add(GRU(100, return_sequences=True))\n",
    "\n",
    "# Dropout layer\n",
    "model.add(Dropout(0.2))\n",
    "\n",
    "# GRU layer 3\n",
    "model.add(GRU(100, return_sequences=False))\n",
    "\n",
    "# BatchNormalization layer\n",
    "model.add(BatchNormalization())\n",
    "\n",
    "# Dropout layer\n",
    "model.add(Dropout(0.3))\n",
    "\n",
    "# Dense layer\n",
    "model.add(Dense(64, activation='relu'))\n",
    "\n",
    "# Dropout layer\n",
    "model.add(Dropout(0.3))\n",
    "\n",
    "# Output layer\n",
    "model.add(Dense(y.shape[1], activation='sigmoid'))\n",
    "\n",
    "# Compile the model\n",
    "model.compile(loss='binary_crossentropy',\n",
    "              optimizer='adam',\n",
    "              metrics=['accuracy'])\n",
    "\n",
    "\n",
    "# Display model summary\n",
    "model.summary()"
   ]
  },
  {
   "cell_type": "code",
   "execution_count": 22,
   "id": "7f105921",
   "metadata": {
    "execution": {
     "iopub.execute_input": "2024-11-25T02:56:12.224092Z",
     "iopub.status.busy": "2024-11-25T02:56:12.223709Z",
     "iopub.status.idle": "2024-11-25T02:56:12.228479Z",
     "shell.execute_reply": "2024-11-25T02:56:12.227737Z"
    },
    "papermill": {
     "duration": 0.729855,
     "end_time": "2024-11-25T02:56:12.229946",
     "exception": false,
     "start_time": "2024-11-25T02:56:11.500091",
     "status": "completed"
    },
    "tags": []
   },
   "outputs": [],
   "source": [
    "#EarlyStopping and ModelCheckpoint\n",
    "from keras.callbacks import EarlyStopping, ModelCheckpoint\n",
    "es = EarlyStopping(monitor = 'val_loss', mode = 'min', verbose = 1, patience = 5)\n",
    "mc = ModelCheckpoint('./model.keras', monitor = 'val_accuracy', mode = 'max', verbose = 1, save_best_only = True)"
   ]
  },
  {
   "cell_type": "code",
   "execution_count": 23,
   "id": "2c8e7ecb",
   "metadata": {
    "execution": {
     "iopub.execute_input": "2024-11-25T02:56:13.749272Z",
     "iopub.status.busy": "2024-11-25T02:56:13.748908Z",
     "iopub.status.idle": "2024-11-25T03:02:18.370116Z",
     "shell.execute_reply": "2024-11-25T03:02:18.369189Z"
    },
    "papermill": {
     "duration": 365.385891,
     "end_time": "2024-11-25T03:02:18.371769",
     "exception": false,
     "start_time": "2024-11-25T02:56:12.985878",
     "status": "completed"
    },
    "tags": []
   },
   "outputs": [
    {
     "name": "stdout",
     "output_type": "stream",
     "text": [
      "Epoch 1/25\n",
      "\u001b[1m546/547\u001b[0m \u001b[32m━━━━━━━━━━━━━━━━━━━\u001b[0m\u001b[37m━\u001b[0m \u001b[1m0s\u001b[0m 44ms/step - accuracy: 0.5434 - loss: 0.6830\n",
      "Epoch 1: val_accuracy improved from -inf to 0.50213, saving model to ./model.keras\n",
      "\u001b[1m547/547\u001b[0m \u001b[32m━━━━━━━━━━━━━━━━━━━━\u001b[0m\u001b[37m\u001b[0m \u001b[1m34s\u001b[0m 52ms/step - accuracy: 0.5436 - loss: 0.6828 - val_accuracy: 0.5021 - val_loss: 4.2301\n",
      "Epoch 2/25\n",
      "\u001b[1m547/547\u001b[0m \u001b[32m━━━━━━━━━━━━━━━━━━━━\u001b[0m\u001b[37m\u001b[0m \u001b[1m0s\u001b[0m 43ms/step - accuracy: 0.8935 - loss: 0.2780\n",
      "Epoch 2: val_accuracy improved from 0.50213 to 0.90110, saving model to ./model.keras\n",
      "\u001b[1m547/547\u001b[0m \u001b[32m━━━━━━━━━━━━━━━━━━━━\u001b[0m\u001b[37m\u001b[0m \u001b[1m28s\u001b[0m 51ms/step - accuracy: 0.8935 - loss: 0.2779 - val_accuracy: 0.9011 - val_loss: 0.2507\n",
      "Epoch 3/25\n",
      "\u001b[1m547/547\u001b[0m \u001b[32m━━━━━━━━━━━━━━━━━━━━\u001b[0m\u001b[37m\u001b[0m \u001b[1m0s\u001b[0m 43ms/step - accuracy: 0.9135 - loss: 0.2266\n",
      "Epoch 3: val_accuracy improved from 0.90110 to 0.91120, saving model to ./model.keras\n",
      "\u001b[1m547/547\u001b[0m \u001b[32m━━━━━━━━━━━━━━━━━━━━\u001b[0m\u001b[37m\u001b[0m \u001b[1m28s\u001b[0m 51ms/step - accuracy: 0.9135 - loss: 0.2266 - val_accuracy: 0.9112 - val_loss: 0.2257\n",
      "Epoch 4/25\n",
      "\u001b[1m547/547\u001b[0m \u001b[32m━━━━━━━━━━━━━━━━━━━━\u001b[0m\u001b[37m\u001b[0m \u001b[1m0s\u001b[0m 43ms/step - accuracy: 0.9195 - loss: 0.2068\n",
      "Epoch 4: val_accuracy improved from 0.91120 to 0.91917, saving model to ./model.keras\n",
      "\u001b[1m547/547\u001b[0m \u001b[32m━━━━━━━━━━━━━━━━━━━━\u001b[0m\u001b[37m\u001b[0m \u001b[1m28s\u001b[0m 51ms/step - accuracy: 0.9195 - loss: 0.2068 - val_accuracy: 0.9192 - val_loss: 0.2175\n",
      "Epoch 5/25\n",
      "\u001b[1m547/547\u001b[0m \u001b[32m━━━━━━━━━━━━━━━━━━━━\u001b[0m\u001b[37m\u001b[0m \u001b[1m0s\u001b[0m 43ms/step - accuracy: 0.9262 - loss: 0.1944\n",
      "Epoch 5: val_accuracy improved from 0.91917 to 0.92337, saving model to ./model.keras\n",
      "\u001b[1m547/547\u001b[0m \u001b[32m━━━━━━━━━━━━━━━━━━━━\u001b[0m\u001b[37m\u001b[0m \u001b[1m28s\u001b[0m 51ms/step - accuracy: 0.9262 - loss: 0.1944 - val_accuracy: 0.9234 - val_loss: 0.2006\n",
      "Epoch 6/25\n",
      "\u001b[1m547/547\u001b[0m \u001b[32m━━━━━━━━━━━━━━━━━━━━\u001b[0m\u001b[37m\u001b[0m \u001b[1m0s\u001b[0m 43ms/step - accuracy: 0.9294 - loss: 0.1861\n",
      "Epoch 6: val_accuracy did not improve from 0.92337\n",
      "\u001b[1m547/547\u001b[0m \u001b[32m━━━━━━━━━━━━━━━━━━━━\u001b[0m\u001b[37m\u001b[0m \u001b[1m27s\u001b[0m 50ms/step - accuracy: 0.9294 - loss: 0.1861 - val_accuracy: 0.9216 - val_loss: 0.2105\n",
      "Epoch 7/25\n",
      "\u001b[1m547/547\u001b[0m \u001b[32m━━━━━━━━━━━━━━━━━━━━\u001b[0m\u001b[37m\u001b[0m \u001b[1m0s\u001b[0m 43ms/step - accuracy: 0.9304 - loss: 0.1799\n",
      "Epoch 7: val_accuracy improved from 0.92337 to 0.93033, saving model to ./model.keras\n",
      "\u001b[1m547/547\u001b[0m \u001b[32m━━━━━━━━━━━━━━━━━━━━\u001b[0m\u001b[37m\u001b[0m \u001b[1m27s\u001b[0m 50ms/step - accuracy: 0.9304 - loss: 0.1799 - val_accuracy: 0.9303 - val_loss: 0.1865\n",
      "Epoch 8/25\n",
      "\u001b[1m547/547\u001b[0m \u001b[32m━━━━━━━━━━━━━━━━━━━━\u001b[0m\u001b[37m\u001b[0m \u001b[1m0s\u001b[0m 43ms/step - accuracy: 0.9343 - loss: 0.1703\n",
      "Epoch 8: val_accuracy improved from 0.93033 to 0.93077, saving model to ./model.keras\n",
      "\u001b[1m547/547\u001b[0m \u001b[32m━━━━━━━━━━━━━━━━━━━━\u001b[0m\u001b[37m\u001b[0m \u001b[1m27s\u001b[0m 50ms/step - accuracy: 0.9343 - loss: 0.1703 - val_accuracy: 0.9308 - val_loss: 0.1836\n",
      "Epoch 9/25\n",
      "\u001b[1m547/547\u001b[0m \u001b[32m━━━━━━━━━━━━━━━━━━━━\u001b[0m\u001b[37m\u001b[0m \u001b[1m0s\u001b[0m 43ms/step - accuracy: 0.9364 - loss: 0.1661\n",
      "Epoch 9: val_accuracy did not improve from 0.93077\n",
      "\u001b[1m547/547\u001b[0m \u001b[32m━━━━━━━━━━━━━━━━━━━━\u001b[0m\u001b[37m\u001b[0m \u001b[1m27s\u001b[0m 50ms/step - accuracy: 0.9364 - loss: 0.1661 - val_accuracy: 0.9305 - val_loss: 0.1972\n",
      "Epoch 10/25\n",
      "\u001b[1m547/547\u001b[0m \u001b[32m━━━━━━━━━━━━━━━━━━━━\u001b[0m\u001b[37m\u001b[0m \u001b[1m0s\u001b[0m 43ms/step - accuracy: 0.9391 - loss: 0.1592\n",
      "Epoch 10: val_accuracy improved from 0.93077 to 0.93157, saving model to ./model.keras\n",
      "\u001b[1m547/547\u001b[0m \u001b[32m━━━━━━━━━━━━━━━━━━━━\u001b[0m\u001b[37m\u001b[0m \u001b[1m27s\u001b[0m 50ms/step - accuracy: 0.9391 - loss: 0.1592 - val_accuracy: 0.9316 - val_loss: 0.1870\n",
      "Epoch 11/25\n",
      "\u001b[1m547/547\u001b[0m \u001b[32m━━━━━━━━━━━━━━━━━━━━\u001b[0m\u001b[37m\u001b[0m \u001b[1m0s\u001b[0m 43ms/step - accuracy: 0.9420 - loss: 0.1535\n",
      "Epoch 11: val_accuracy did not improve from 0.93157\n",
      "\u001b[1m547/547\u001b[0m \u001b[32m━━━━━━━━━━━━━━━━━━━━\u001b[0m\u001b[37m\u001b[0m \u001b[1m27s\u001b[0m 50ms/step - accuracy: 0.9420 - loss: 0.1535 - val_accuracy: 0.9137 - val_loss: 0.2210\n",
      "Epoch 12/25\n",
      "\u001b[1m547/547\u001b[0m \u001b[32m━━━━━━━━━━━━━━━━━━━━\u001b[0m\u001b[37m\u001b[0m \u001b[1m0s\u001b[0m 43ms/step - accuracy: 0.9408 - loss: 0.1500\n",
      "Epoch 12: val_accuracy did not improve from 0.93157\n",
      "\u001b[1m547/547\u001b[0m \u001b[32m━━━━━━━━━━━━━━━━━━━━\u001b[0m\u001b[37m\u001b[0m \u001b[1m27s\u001b[0m 50ms/step - accuracy: 0.9408 - loss: 0.1500 - val_accuracy: 0.9242 - val_loss: 0.2144\n",
      "Epoch 13/25\n",
      "\u001b[1m547/547\u001b[0m \u001b[32m━━━━━━━━━━━━━━━━━━━━\u001b[0m\u001b[37m\u001b[0m \u001b[1m0s\u001b[0m 43ms/step - accuracy: 0.9456 - loss: 0.1447\n",
      "Epoch 13: val_accuracy did not improve from 0.93157\n",
      "\u001b[1m547/547\u001b[0m \u001b[32m━━━━━━━━━━━━━━━━━━━━\u001b[0m\u001b[37m\u001b[0m \u001b[1m27s\u001b[0m 50ms/step - accuracy: 0.9456 - loss: 0.1447 - val_accuracy: 0.9245 - val_loss: 0.1954\n",
      "Epoch 13: early stopping\n"
     ]
    }
   ],
   "source": [
    "history_embedding = model.fit(X_train, y_train, \n",
    "                                epochs = 25, batch_size = 128, \n",
    "                                validation_data=(X_test, y_test),\n",
    "                                verbose = 1, callbacks= [es, mc]  )"
   ]
  },
  {
   "cell_type": "markdown",
   "id": "be3efa70",
   "metadata": {
    "papermill": {
     "duration": 0.920203,
     "end_time": "2024-11-25T03:02:20.177218",
     "exception": false,
     "start_time": "2024-11-25T03:02:19.257015",
     "status": "completed"
    },
    "tags": []
   },
   "source": [
    "## Model Evaluation"
   ]
  },
  {
   "cell_type": "code",
   "execution_count": 24,
   "id": "022cf736",
   "metadata": {
    "execution": {
     "iopub.execute_input": "2024-11-25T03:02:22.114618Z",
     "iopub.status.busy": "2024-11-25T03:02:22.114237Z",
     "iopub.status.idle": "2024-11-25T03:02:22.634709Z",
     "shell.execute_reply": "2024-11-25T03:02:22.633889Z"
    },
    "papermill": {
     "duration": 1.529596,
     "end_time": "2024-11-25T03:02:22.636677",
     "exception": false,
     "start_time": "2024-11-25T03:02:21.107081",
     "status": "completed"
    },
    "tags": []
   },
   "outputs": [
    {
     "data": {
      "image/png": "[encoded data removed]",
      "text/plain": [
       "<Figure size 640x480 with 1 Axes>"
      ]
     },
     "metadata": {},
     "output_type": "display_data"
    }
   ],
   "source": [
    "import matplotlib.pyplot as plt\n",
    "import seaborn as sns\n",
    "plt.plot(history_embedding.history['accuracy'],c='b',label='train accuracy')\n",
    "plt.plot(history_embedding.history['val_accuracy'],c='r',label='validation accuracy')\n",
    "plt.legend(loc='lower right')\n",
    "plt.show()"
   ]
  },
  {
   "cell_type": "code",
   "execution_count": 25,
   "id": "cc72a82e",
   "metadata": {
    "execution": {
     "iopub.execute_input": "2024-11-25T03:02:24.552235Z",
     "iopub.status.busy": "2024-11-25T03:02:24.551561Z",
     "iopub.status.idle": "2024-11-25T03:02:24.706863Z",
     "shell.execute_reply": "2024-11-25T03:02:24.705936Z"
    },
    "papermill": {
     "duration": 1.107829,
     "end_time": "2024-11-25T03:02:24.708630",
     "exception": false,
     "start_time": "2024-11-25T03:02:23.600801",
     "status": "completed"
    },
    "tags": []
   },
   "outputs": [
    {
     "data": {
      "image/png": "[encoded data removed]",
      "text/plain": [
       "<Figure size 640x480 with 1 Axes>"
      ]
     },
     "metadata": {},
     "output_type": "display_data"
    }
   ],
   "source": [
    "import matplotlib.pyplot as plt\n",
    "import seaborn as sns\n",
    "plt.plot(history_embedding.history['loss'],c='b',label='train loss')\n",
    "plt.plot(history_embedding.history['val_loss'],c='r',label='validation loss')\n",
    "plt.legend(loc='upper right')\n",
    "plt.show()"
   ]
  },
  {
   "cell_type": "code",
   "execution_count": 26,
   "id": "41fb5132",
   "metadata": {
    "execution": {
     "iopub.execute_input": "2024-11-25T03:02:26.527832Z",
     "iopub.status.busy": "2024-11-25T03:02:26.526933Z",
     "iopub.status.idle": "2024-11-25T03:02:39.381664Z",
     "shell.execute_reply": "2024-11-25T03:02:39.380493Z"
    },
    "papermill": {
     "duration": 13.782861,
     "end_time": "2024-11-25T03:02:39.383588",
     "exception": false,
     "start_time": "2024-11-25T03:02:25.600727",
     "status": "completed"
    },
    "tags": []
   },
   "outputs": [
    {
     "name": "stdout",
     "output_type": "stream",
     "text": [
      "\u001b[1m938/938\u001b[0m \u001b[32m━━━━━━━━━━━━━━━━━━━━\u001b[0m\u001b[37m\u001b[0m \u001b[1m12s\u001b[0m 13ms/step\n",
      "              precision    recall  f1-score   support\n",
      "\n",
      "           0       0.89      0.96      0.93     14945\n",
      "           1       0.96      0.89      0.92     15055\n",
      "\n",
      "    accuracy                           0.92     30000\n",
      "   macro avg       0.93      0.92      0.92     30000\n",
      "weighted avg       0.93      0.92      0.92     30000\n",
      "\n"
     ]
    }
   ],
   "source": [
    "from sklearn.metrics import classification_report, confusion_matrix\n",
    "y_pred=model.predict(X_test)\n",
    "y_pred.shape\n",
    "import numpy as np\n",
    "y_pred=np.argmax(y_pred,axis=1)\n",
    "y_pred\n",
    "y_test = y_test.to_numpy()\n",
    "y_test=np.argmax(y_test,axis = 1)\n",
    "print(classification_report(y_test, y_pred))"
   ]
  },
  {
   "cell_type": "markdown",
   "id": "5b8e0682",
   "metadata": {
    "papermill": {
     "duration": 0.932496,
     "end_time": "2024-11-25T03:02:41.256753",
     "exception": false,
     "start_time": "2024-11-25T03:02:40.324257",
     "status": "completed"
    },
    "tags": []
   },
   "source": [
    "## Predict New Data"
   ]
  },
  {
   "cell_type": "code",
   "execution_count": 27,
   "id": "4e9491a1",
   "metadata": {
    "execution": {
     "iopub.execute_input": "2024-11-25T03:02:43.132452Z",
     "iopub.status.busy": "2024-11-25T03:02:43.132091Z",
     "iopub.status.idle": "2024-11-25T03:02:43.137525Z",
     "shell.execute_reply": "2024-11-25T03:02:43.136669Z"
    },
    "papermill": {
     "duration": 0.949434,
     "end_time": "2024-11-25T03:02:43.139259",
     "exception": false,
     "start_time": "2024-11-25T03:02:42.189825",
     "status": "completed"
    },
    "tags": []
   },
   "outputs": [
    {
     "name": "stdout",
     "output_type": "stream",
     "text": [
      "[[629 616  64   0   0   0   0   0   0   0   0   0   0   0   0   0   0   0\n",
      "    0   0   0   0   0   0   0   0   0   0   0   0   0   0   0   0   0   0\n",
      "    0   0   0   0   0   0   0   0   0   0   0   0   0   0   0   0   0   0\n",
      "    0   0   0   0   0   0   0   0   0   0   0   0   0   0   0   0   0   0\n",
      "    0   0   0   0   0   0   0   0   0   0   0   0   0   0   0   0   0   0\n",
      "    0   0   0   0   0   0   0   0   0   0   0   0   0   0   0   0   0   0\n",
      "    0   0   0   0   0   0   0   0   0   0   0   0   0   0   0   0   0   0\n",
      "    0   0   0   0   0   0   0   0   0   0   0   0   0   0   0   0   0   0\n",
      "    0   0   0   0   0   0   0   0   0   0   0   0   0   0   0   0   0   0\n",
      "    0   0   0   0   0   0   0   0   0   0   0   0   0   0   0   0   0   0\n",
      "    0   0   0   0   0   0   0   0   0   0   0   0   0   0   0   0   0   0\n",
      "    0   0]]\n"
     ]
    }
   ],
   "source": [
    "# Teks baru untuk prediksi\n",
    "new_data = [\"i am happy \"]\n",
    "# Tokenisasi dan konversi teks ke dalam bentuk indeks kata\n",
    "new_data_tokenized = tokenizer.texts_to_sequences(new_data)\n",
    "\n",
    "# Padding untuk memastikan panjangnya sesuai dengan model\n",
    "new_data_padded = pad_sequences(new_data_tokenized, maxlen=200, padding='post')\n",
    "\n",
    "# Cek apakah padding dan tokenisasi bekerja dengan baik\n",
    "print(new_data_padded)"
   ]
  },
  {
   "cell_type": "code",
   "execution_count": 28,
   "id": "e874ced3",
   "metadata": {
    "execution": {
     "iopub.execute_input": "2024-11-25T03:02:45.015486Z",
     "iopub.status.busy": "2024-11-25T03:02:45.014861Z",
     "iopub.status.idle": "2024-11-25T03:02:45.094800Z",
     "shell.execute_reply": "2024-11-25T03:02:45.094028Z"
    },
    "papermill": {
     "duration": 1.022183,
     "end_time": "2024-11-25T03:02:45.096476",
     "exception": false,
     "start_time": "2024-11-25T03:02:44.074293",
     "status": "completed"
    },
    "tags": []
   },
   "outputs": [
    {
     "name": "stdout",
     "output_type": "stream",
     "text": [
      "\u001b[1m1/1\u001b[0m \u001b[32m━━━━━━━━━━━━━━━━━━━━\u001b[0m\u001b[37m\u001b[0m \u001b[1m0s\u001b[0m 37ms/step\n",
      "Predicted class: Not Suicidal\n",
      "Prediction probability: 93.62%\n"
     ]
    }
   ],
   "source": [
    "# Prediksi dengan model yang sudah dilatih\n",
    "prediction = model.predict(new_data_padded)\n",
    "\n",
    "# Menentukan kelas prediksi\n",
    "predicted_class = np.argmax(prediction, axis=1)\n",
    "\n",
    "# Mengambil probabilitas untuk kelas prediksi\n",
    "predicted_prob = prediction[0][predicted_class[0]] * 100\n",
    "\n",
    "# Output prediksi dan persentase\n",
    "class_names = ['Not Suicidal', 'Suicidal']\n",
    "print(f\"Predicted class: {class_names[predicted_class[0]]}\")\n",
    "print(f\"Prediction probability: {predicted_prob:.2f}%\")"
   ]
  }
 ],
 "metadata": {
  "kaggle": {
   "accelerator": "gpu",
   "dataSources": [
    {
     "datasetId": 1075326,
     "sourceId": 2250642,
     "sourceType": "datasetVersion"
    }
   ],
   "dockerImageVersionId": 30787,
   "isGpuEnabled": true,
   "isInternetEnabled": true,
   "language": "python",
   "sourceType": "notebook"
  },
  "kernelspec": {
   "display_name": "Python 3",
   "language": "python",
   "name": "python3"
  },
  "language_info": {
   "codemirror_mode": {
    "name": "ipython",
    "version": 3
   },
   "file_extension": ".py",
   "mimetype": "text/x-python",
   "name": "python",
   "nbconvert_exporter": "python",
   "pygments_lexer": "ipython3",
   "version": "3.10.14"
  },
  "papermill": {
   "default_parameters": {},
   "duration": 689.342656,
   "end_time": "2024-11-25T03:02:49.327529",
   "environment_variables": {},
   "exception": null,
   "input_path": "__notebook__.ipynb",
   "output_path": "__notebook__.ipynb",
   "parameters": {},
   "start_time": "2024-11-25T02:51:19.984873",
   "version": "2.6.0"
  },
  "widgets": {
   "application/vnd.jupyter.widget-state+json": {
    "state": {
     "011e9f4eda2349568265c15a6be6d0c1": {
      "model_module": "@jupyter-widgets/base",
      "model_module_version": "1.2.0",
      "model_name": "LayoutModel",
      "state": {
       "_model_module": "@jupyter-widgets/base",
       "_model_module_version": "1.2.0",
       "_model_name": "LayoutModel",
       "_view_count": null,
       "_view_module": "@jupyter-widgets/base",
       "_view_module_version": "1.2.0",
       "_view_name": "LayoutView",
       "align_content": null,
       "align_items": null,
       "align_self": null,
       "border": null,
       "bottom": null,
       "display": null,
       "flex": null,
       "flex_flow": null,
       "grid_area": null,
       "grid_auto_columns": null,
       "grid_auto_flow": null,
       "grid_auto_rows": null,
       "grid_column": null,
       "grid_gap": null,
       "grid_row": null,
       "grid_template_areas": null,
       "grid_template_columns": null,
       "grid_template_rows": null,
       "height": null,
       "justify_content": null,
       "justify_items": null,
       "left": null,
       "margin": null,
       "max_height": null,
       "max_width": null,
       "min_height": null,
       "min_width": null,
       "object_fit": null,
       "object_position": null,
       "order": null,
       "overflow": null,
       "overflow_x": null,
       "overflow_y": null,
       "padding": null,
       "right": null,
       "top": null,
       "visibility": null,
       "width": null
      }
     },
     "06d66dd1288c441ead77269cf6a1c7d6": {
      "model_module": "@jupyter-widgets/controls",
      "model_module_version": "1.5.0",
      "model_name": "HTMLModel",
      "state": {
       "_dom_classes": [],
       "_model_module": "@jupyter-widgets/controls",
       "_model_module_version": "1.5.0",
       "_model_name": "HTMLModel",
       "_view_count": null,
       "_view_module": "@jupyter-widgets/controls",
       "_view_module_version": "1.5.0",
       "_view_name": "HTMLView",
       "description": "",
       "description_tooltip": null,
       "layout": "IPY_MODEL_92250f6174414572a450923a97e5622c",
       "placeholder": "​",
       "style": "IPY_MODEL_149f071a0b314a34acb265e0dd28c1b4",
       "value": "100%"
      }
     },
     "09807663f4b9435582844b5fea467772": {
      "model_module": "@jupyter-widgets/controls",
      "model_module_version": "1.5.0",
      "model_name": "ProgressStyleModel",
      "state": {
       "_model_module": "@jupyter-widgets/controls",
       "_model_module_version": "1.5.0",
       "_model_name": "ProgressStyleModel",
       "_view_count": null,
       "_view_module": "@jupyter-widgets/base",
       "_view_module_version": "1.2.0",
       "_view_name": "StyleView",
       "bar_color": null,
       "description_width": ""
      }
     },
     "100a3b15fb6b412f98cad907ed27bc79": {
      "model_module": "@jupyter-widgets/controls",
      "model_module_version": "1.5.0",
      "model_name": "DescriptionStyleModel",
      "state": {
       "_model_module": "@jupyter-widgets/controls",
       "_model_module_version": "1.5.0",
       "_model_name": "DescriptionStyleModel",
       "_view_count": null,
       "_view_module": "@jupyter-widgets/base",
       "_view_module_version": "1.2.0",
       "_view_name": "StyleView",
       "description_width": ""
      }
     },
     "1248eba7a6a046fc9e6dec2fb9e7dedc": {
      "model_module": "@jupyter-widgets/controls",
      "model_module_version": "1.5.0",
      "model_name": "HTMLModel",
      "state": {
       "_dom_classes": [],
       "_model_module": "@jupyter-widgets/controls",
       "_model_module_version": "1.5.0",
       "_model_name": "HTMLModel",
       "_view_count": null,
       "_view_module": "@jupyter-widgets/controls",
       "_view_module_version": "1.5.0",
       "_view_name": "HTMLView",
       "description": "",
       "description_tooltip": null,
       "layout": "IPY_MODEL_c7d5fb9140f44f25985b292b5a43ca88",
       "placeholder": "​",
       "style": "IPY_MODEL_97fe0d4fd1c840a9a4ccfd02269fca1c",
       "value": " 100000/100000 [00:15&lt;00:00, 6287.91it/s]"
      }
     },
     "132d879f51164002ab79ec6b905b61f6": {
      "model_module": "@jupyter-widgets/controls",
      "model_module_version": "1.5.0",
      "model_name": "DescriptionStyleModel",
      "state": {
       "_model_module": "@jupyter-widgets/controls",
       "_model_module_version": "1.5.0",
       "_model_name": "DescriptionStyleModel",
       "_view_count": null,
       "_view_module": "@jupyter-widgets/base",
       "_view_module_version": "1.2.0",
       "_view_name": "StyleView",
       "description_width": ""
      }
     },
     "149f071a0b314a34acb265e0dd28c1b4": {
      "model_module": "@jupyter-widgets/controls",
      "model_module_version": "1.5.0",
      "model_name": "DescriptionStyleModel",
      "state": {
       "_model_module": "@jupyter-widgets/controls",
       "_model_module_version": "1.5.0",
       "_model_name": "DescriptionStyleModel",
       "_view_count": null,
       "_view_module": "@jupyter-widgets/base",
       "_view_module_version": "1.2.0",
       "_view_name": "StyleView",
       "description_width": ""
      }
     },
     "1edd2ef71cac46fa8cd9f70610fd25b3": {
      "model_module": "@jupyter-widgets/controls",
      "model_module_version": "1.5.0",
      "model_name": "HBoxModel",
      "state": {
       "_dom_classes": [],
       "_model_module": "@jupyter-widgets/controls",
       "_model_module_version": "1.5.0",
       "_model_name": "HBoxModel",
       "_view_count": null,
       "_view_module": "@jupyter-widgets/controls",
       "_view_module_version": "1.5.0",
       "_view_name": "HBoxView",
       "box_style": "",
       "children": [
        "IPY_MODEL_851595981e6c46fbaf1e43379e39239f",
        "IPY_MODEL_356719ece3264fd491ba5267ba6792a1",
        "IPY_MODEL_daea2df5bb064be9b12246b5e691d498"
       ],
       "layout": "IPY_MODEL_6282b2c0999249618e9441bdfb9e3ebe"
      }
     },
     "22582633041b4dbd91e9ec82de02394c": {
      "model_module": "@jupyter-widgets/controls",
      "model_module_version": "1.5.0",
      "model_name": "FloatProgressModel",
      "state": {
       "_dom_classes": [],
       "_model_module": "@jupyter-widgets/controls",
       "_model_module_version": "1.5.0",
       "_model_name": "FloatProgressModel",
       "_view_count": null,
       "_view_module": "@jupyter-widgets/controls",
       "_view_module_version": "1.5.0",
       "_view_name": "ProgressView",
       "bar_style": "success",
       "description": "",
       "description_tooltip": null,
       "layout": "IPY_MODEL_adb64f6930584e8981e4864dcc209d63",
       "max": 100000.0,
       "min": 0.0,
       "orientation": "horizontal",
       "style": "IPY_MODEL_4653a11ce6d44790bc03e523aac08413",
       "value": 100000.0
      }
     },
     "2e4ba495cf1f436db2f749225b889be7": {
      "model_module": "@jupyter-widgets/base",
      "model_module_version": "1.2.0",
      "model_name": "LayoutModel",
      "state": {
       "_model_module": "@jupyter-widgets/base",
       "_model_module_version": "1.2.0",
       "_model_name": "LayoutModel",
       "_view_count": null,
       "_view_module": "@jupyter-widgets/base",
       "_view_module_version": "1.2.0",
       "_view_name": "LayoutView",
       "align_content": null,
       "align_items": null,
       "align_self": null,
       "border": null,
       "bottom": null,
       "display": null,
       "flex": null,
       "flex_flow": null,
       "grid_area": null,
       "grid_auto_columns": null,
       "grid_auto_flow": null,
       "grid_auto_rows": null,
       "grid_column": null,
       "grid_gap": null,
       "grid_row": null,
       "grid_template_areas": null,
       "grid_template_columns": null,
       "grid_template_rows": null,
       "height": null,
       "justify_content": null,
       "justify_items": null,
       "left": null,
       "margin": null,
       "max_height": null,
       "max_width": null,
       "min_height": null,
       "min_width": null,
       "object_fit": null,
       "object_position": null,
       "order": null,
       "overflow": null,
       "overflow_x": null,
       "overflow_y": null,
       "padding": null,
       "right": null,
       "top": null,
       "visibility": null,
       "width": null
      }
     },
     "30bce0bed8d945b6a48cf690b15a2758": {
      "model_module": "@jupyter-widgets/controls",
      "model_module_version": "1.5.0",
      "model_name": "DescriptionStyleModel",
      "state": {
       "_model_module": "@jupyter-widgets/controls",
       "_model_module_version": "1.5.0",
       "_model_name": "DescriptionStyleModel",
       "_view_count": null,
       "_view_module": "@jupyter-widgets/base",
       "_view_module_version": "1.2.0",
       "_view_name": "StyleView",
       "description_width": ""
      }
     },
     "356719ece3264fd491ba5267ba6792a1": {
      "model_module": "@jupyter-widgets/controls",
      "model_module_version": "1.5.0",
      "model_name": "FloatProgressModel",
      "state": {
       "_dom_classes": [],
       "_model_module": "@jupyter-widgets/controls",
       "_model_module_version": "1.5.0",
       "_model_name": "FloatProgressModel",
       "_view_count": null,
       "_view_module": "@jupyter-widgets/controls",
       "_view_module_version": "1.5.0",
       "_view_name": "ProgressView",
       "bar_style": "success",
       "description": "",
       "description_tooltip": null,
       "layout": "IPY_MODEL_79dbc8caf9d443cc8a62e1ffecb63117",
       "max": 100000.0,
       "min": 0.0,
       "orientation": "horizontal",
       "style": "IPY_MODEL_74143c9e6bbc47f08435771fe1d90b51",
       "value": 100000.0
      }
     },
     "3b93589ca26a4ce8ab1db0ef76c88399": {
      "model_module": "@jupyter-widgets/base",
      "model_module_version": "1.2.0",
      "model_name": "LayoutModel",
      "state": {
       "_model_module": "@jupyter-widgets/base",
       "_model_module_version": "1.2.0",
       "_model_name": "LayoutModel",
       "_view_count": null,
       "_view_module": "@jupyter-widgets/base",
       "_view_module_version": "1.2.0",
       "_view_name": "LayoutView",
       "align_content": null,
       "align_items": null,
       "align_self": null,
       "border": null,
       "bottom": null,
       "display": null,
       "flex": null,
       "flex_flow": null,
       "grid_area": null,
       "grid_auto_columns": null,
       "grid_auto_flow": null,
       "grid_auto_rows": null,
       "grid_column": null,
       "grid_gap": null,
       "grid_row": null,
       "grid_template_areas": null,
       "grid_template_columns": null,
       "grid_template_rows": null,
       "height": null,
       "justify_content": null,
       "justify_items": null,
       "left": null,
       "margin": null,
       "max_height": null,
       "max_width": null,
       "min_height": null,
       "min_width": null,
       "object_fit": null,
       "object_position": null,
       "order": null,
       "overflow": null,
       "overflow_x": null,
       "overflow_y": null,
       "padding": null,
       "right": null,
       "top": null,
       "visibility": null,
       "width": null
      }
     },
     "42491b28317b45baa2e08117c702b699": {
      "model_module": "@jupyter-widgets/controls",
      "model_module_version": "1.5.0",
      "model_name": "HTMLModel",
      "state": {
       "_dom_classes": [],
       "_model_module": "@jupyter-widgets/controls",
       "_model_module_version": "1.5.0",
       "_model_name": "HTMLModel",
       "_view_count": null,
       "_view_module": "@jupyter-widgets/controls",
       "_view_module_version": "1.5.0",
       "_view_name": "HTMLView",
       "description": "",
       "description_tooltip": null,
       "layout": "IPY_MODEL_de87825abf214ed3b11e6601db85fb69",
       "placeholder": "​",
       "style": "IPY_MODEL_ad8c2d42b0f24f69bc2b925182d0fc4d",
       "value": "100%"
      }
     },
     "4653a11ce6d44790bc03e523aac08413": {
      "model_module": "@jupyter-widgets/controls",
      "model_module_version": "1.5.0",
      "model_name": "ProgressStyleModel",
      "state": {
       "_model_module": "@jupyter-widgets/controls",
       "_model_module_version": "1.5.0",
       "_model_name": "ProgressStyleModel",
       "_view_count": null,
       "_view_module": "@jupyter-widgets/base",
       "_view_module_version": "1.2.0",
       "_view_name": "StyleView",
       "bar_color": null,
       "description_width": ""
      }
     },
     "503a3d9f1de0425681dd2d72f282f080": {
      "model_module": "@jupyter-widgets/controls",
      "model_module_version": "1.5.0",
      "model_name": "ProgressStyleModel",
      "state": {
       "_model_module": "@jupyter-widgets/controls",
       "_model_module_version": "1.5.0",
       "_model_name": "ProgressStyleModel",
       "_view_count": null,
       "_view_module": "@jupyter-widgets/base",
       "_view_module_version": "1.2.0",
       "_view_name": "StyleView",
       "bar_color": null,
       "description_width": ""
      }
     },
     "5803ee109dc7400eb58041fda3ee4d29": {
      "model_module": "@jupyter-widgets/controls",
      "model_module_version": "1.5.0",
      "model_name": "HBoxModel",
      "state": {
       "_dom_classes": [],
       "_model_module": "@jupyter-widgets/controls",
       "_model_module_version": "1.5.0",
       "_model_name": "HBoxModel",
       "_view_count": null,
       "_view_module": "@jupyter-widgets/controls",
       "_view_module_version": "1.5.0",
       "_view_name": "HBoxView",
       "box_style": "",
       "children": [
        "IPY_MODEL_06d66dd1288c441ead77269cf6a1c7d6",
        "IPY_MODEL_9a56a0c8cdee493788211847f761252a",
        "IPY_MODEL_cb48b4ace48f40599108cca7224ae3db"
       ],
       "layout": "IPY_MODEL_5ee85b4d44914dedae324220d074fcc5"
      }
     },
     "5ee85b4d44914dedae324220d074fcc5": {
      "model_module": "@jupyter-widgets/base",
      "model_module_version": "1.2.0",
      "model_name": "LayoutModel",
      "state": {
       "_model_module": "@jupyter-widgets/base",
       "_model_module_version": "1.2.0",
       "_model_name": "LayoutModel",
       "_view_count": null,
       "_view_module": "@jupyter-widgets/base",
       "_view_module_version": "1.2.0",
       "_view_name": "LayoutView",
       "align_content": null,
       "align_items": null,
       "align_self": null,
       "border": null,
       "bottom": null,
       "display": null,
       "flex": null,
       "flex_flow": null,
       "grid_area": null,
       "grid_auto_columns": null,
       "grid_auto_flow": null,
       "grid_auto_rows": null,
       "grid_column": null,
       "grid_gap": null,
       "grid_row": null,
       "grid_template_areas": null,
       "grid_template_columns": null,
       "grid_template_rows": null,
       "height": null,
       "justify_content": null,
       "justify_items": null,
       "left": null,
       "margin": null,
       "max_height": null,
       "max_width": null,
       "min_height": null,
       "min_width": null,
       "object_fit": null,
       "object_position": null,
       "order": null,
       "overflow": null,
       "overflow_x": null,
       "overflow_y": null,
       "padding": null,
       "right": null,
       "top": null,
       "visibility": null,
       "width": null
      }
     },
     "6282b2c0999249618e9441bdfb9e3ebe": {
      "model_module": "@jupyter-widgets/base",
      "model_module_version": "1.2.0",
      "model_name": "LayoutModel",
      "state": {
       "_model_module": "@jupyter-widgets/base",
       "_model_module_version": "1.2.0",
       "_model_name": "LayoutModel",
       "_view_count": null,
       "_view_module": "@jupyter-widgets/base",
       "_view_module_version": "1.2.0",
       "_view_name": "LayoutView",
       "align_content": null,
       "align_items": null,
       "align_self": null,
       "border": null,
       "bottom": null,
       "display": null,
       "flex": null,
       "flex_flow": null,
       "grid_area": null,
       "grid_auto_columns": null,
       "grid_auto_flow": null,
       "grid_auto_rows": null,
       "grid_column": null,
       "grid_gap": null,
       "grid_row": null,
       "grid_template_areas": null,
       "grid_template_columns": null,
       "grid_template_rows": null,
       "height": null,
       "justify_content": null,
       "justify_items": null,
       "left": null,
       "margin": null,
       "max_height": null,
       "max_width": null,
       "min_height": null,
       "min_width": null,
       "object_fit": null,
       "object_position": null,
       "order": null,
       "overflow": null,
       "overflow_x": null,
       "overflow_y": null,
       "padding": null,
       "right": null,
       "top": null,
       "visibility": null,
       "width": null
      }
     },
     "6addb1eaf5d14e58a748fb976a85c1e5": {
      "model_module": "@jupyter-widgets/base",
      "model_module_version": "1.2.0",
      "model_name": "LayoutModel",
      "state": {
       "_model_module": "@jupyter-widgets/base",
       "_model_module_version": "1.2.0",
       "_model_name": "LayoutModel",
       "_view_count": null,
       "_view_module": "@jupyter-widgets/base",
       "_view_module_version": "1.2.0",
       "_view_name": "LayoutView",
       "align_content": null,
       "align_items": null,
       "align_self": null,
       "border": null,
       "bottom": null,
       "display": null,
       "flex": null,
       "flex_flow": null,
       "grid_area": null,
       "grid_auto_columns": null,
       "grid_auto_flow": null,
       "grid_auto_rows": null,
       "grid_column": null,
       "grid_gap": null,
       "grid_row": null,
       "grid_template_areas": null,
       "grid_template_columns": null,
       "grid_template_rows": null,
       "height": null,
       "justify_content": null,
       "justify_items": null,
       "left": null,
       "margin": null,
       "max_height": null,
       "max_width": null,
       "min_height": null,
       "min_width": null,
       "object_fit": null,
       "object_position": null,
       "order": null,
       "overflow": null,
       "overflow_x": null,
       "overflow_y": null,
       "padding": null,
       "right": null,
       "top": null,
       "visibility": null,
       "width": null
      }
     },
     "6e5b9972cc1845d28792adb3fdee2761": {
      "model_module": "@jupyter-widgets/base",
      "model_module_version": "1.2.0",
      "model_name": "LayoutModel",
      "state": {
       "_model_module": "@jupyter-widgets/base",
       "_model_module_version": "1.2.0",
       "_model_name": "LayoutModel",
       "_view_count": null,
       "_view_module": "@jupyter-widgets/base",
       "_view_module_version": "1.2.0",
       "_view_name": "LayoutView",
       "align_content": null,
       "align_items": null,
       "align_self": null,
       "border": null,
       "bottom": null,
       "display": null,
       "flex": null,
       "flex_flow": null,
       "grid_area": null,
       "grid_auto_columns": null,
       "grid_auto_flow": null,
       "grid_auto_rows": null,
       "grid_column": null,
       "grid_gap": null,
       "grid_row": null,
       "grid_template_areas": null,
       "grid_template_columns": null,
       "grid_template_rows": null,
       "height": null,
       "justify_content": null,
       "justify_items": null,
       "left": null,
       "margin": null,
       "max_height": null,
       "max_width": null,
       "min_height": null,
       "min_width": null,
       "object_fit": null,
       "object_position": null,
       "order": null,
       "overflow": null,
       "overflow_x": null,
       "overflow_y": null,
       "padding": null,
       "right": null,
       "top": null,
       "visibility": null,
       "width": null
      }
     },
     "71993eb950744412b1acaa18b52c8b03": {
      "model_module": "@jupyter-widgets/controls",
      "model_module_version": "1.5.0",
      "model_name": "DescriptionStyleModel",
      "state": {
       "_model_module": "@jupyter-widgets/controls",
       "_model_module_version": "1.5.0",
       "_model_name": "DescriptionStyleModel",
       "_view_count": null,
       "_view_module": "@jupyter-widgets/base",
       "_view_module_version": "1.2.0",
       "_view_name": "StyleView",
       "description_width": ""
      }
     },
     "74143c9e6bbc47f08435771fe1d90b51": {
      "model_module": "@jupyter-widgets/controls",
      "model_module_version": "1.5.0",
      "model_name": "ProgressStyleModel",
      "state": {
       "_model_module": "@jupyter-widgets/controls",
       "_model_module_version": "1.5.0",
       "_model_name": "ProgressStyleModel",
       "_view_count": null,
       "_view_module": "@jupyter-widgets/base",
       "_view_module_version": "1.2.0",
       "_view_name": "StyleView",
       "bar_color": null,
       "description_width": ""
      }
     },
     "789185c58acc40549d60f6719c73de05": {
      "model_module": "@jupyter-widgets/controls",
      "model_module_version": "1.5.0",
      "model_name": "HBoxModel",
      "state": {
       "_dom_classes": [],
       "_model_module": "@jupyter-widgets/controls",
       "_model_module_version": "1.5.0",
       "_model_name": "HBoxModel",
       "_view_count": null,
       "_view_module": "@jupyter-widgets/controls",
       "_view_module_version": "1.5.0",
       "_view_name": "HBoxView",
       "box_style": "",
       "children": [
        "IPY_MODEL_8d3481ca6f5941938109a27739f351da",
        "IPY_MODEL_edca834e8eb047329cca37fb38c76bc4",
        "IPY_MODEL_1248eba7a6a046fc9e6dec2fb9e7dedc"
       ],
       "layout": "IPY_MODEL_2e4ba495cf1f436db2f749225b889be7"
      }
     },
     "79dbc8caf9d443cc8a62e1ffecb63117": {
      "model_module": "@jupyter-widgets/base",
      "model_module_version": "1.2.0",
      "model_name": "LayoutModel",
      "state": {
       "_model_module": "@jupyter-widgets/base",
       "_model_module_version": "1.2.0",
       "_model_name": "LayoutModel",
       "_view_count": null,
       "_view_module": "@jupyter-widgets/base",
       "_view_module_version": "1.2.0",
       "_view_name": "LayoutView",
       "align_content": null,
       "align_items": null,
       "align_self": null,
       "border": null,
       "bottom": null,
       "display": null,
       "flex": null,
       "flex_flow": null,
       "grid_area": null,
       "grid_auto_columns": null,
       "grid_auto_flow": null,
       "grid_auto_rows": null,
       "grid_column": null,
       "grid_gap": null,
       "grid_row": null,
       "grid_template_areas": null,
       "grid_template_columns": null,
       "grid_template_rows": null,
       "height": null,
       "justify_content": null,
       "justify_items": null,
       "left": null,
       "margin": null,
       "max_height": null,
       "max_width": null,
       "min_height": null,
       "min_width": null,
       "object_fit": null,
       "object_position": null,
       "order": null,
       "overflow": null,
       "overflow_x": null,
       "overflow_y": null,
       "padding": null,
       "right": null,
       "top": null,
       "visibility": null,
       "width": null
      }
     },
     "845385db18394362a98837fb8c314434": {
      "model_module": "@jupyter-widgets/controls",
      "model_module_version": "1.5.0",
      "model_name": "HTMLModel",
      "state": {
       "_dom_classes": [],
       "_model_module": "@jupyter-widgets/controls",
       "_model_module_version": "1.5.0",
       "_model_name": "HTMLModel",
       "_view_count": null,
       "_view_module": "@jupyter-widgets/controls",
       "_view_module_version": "1.5.0",
       "_view_name": "HTMLView",
       "description": "",
       "description_tooltip": null,
       "layout": "IPY_MODEL_fc4e0a6a09ea465db53e8d7500c93396",
       "placeholder": "​",
       "style": "IPY_MODEL_dbb74e07a0154a80bc986500e87959da",
       "value": " 100000/100000 [00:00&lt;00:00, 323791.22it/s]"
      }
     },
     "851595981e6c46fbaf1e43379e39239f": {
      "model_module": "@jupyter-widgets/controls",
      "model_module_version": "1.5.0",
      "model_name": "HTMLModel",
      "state": {
       "_dom_classes": [],
       "_model_module": "@jupyter-widgets/controls",
       "_model_module_version": "1.5.0",
       "_model_name": "HTMLModel",
       "_view_count": null,
       "_view_module": "@jupyter-widgets/controls",
       "_view_module_version": "1.5.0",
       "_view_name": "HTMLView",
       "description": "",
       "description_tooltip": null,
       "layout": "IPY_MODEL_d08ccba9a8c24399b2b16dec07c47d8f",
       "placeholder": "​",
       "style": "IPY_MODEL_d3d6e79a94904505b73a09fd245e31ac",
       "value": "100%"
      }
     },
     "8d3481ca6f5941938109a27739f351da": {
      "model_module": "@jupyter-widgets/controls",
      "model_module_version": "1.5.0",
      "model_name": "HTMLModel",
      "state": {
       "_dom_classes": [],
       "_model_module": "@jupyter-widgets/controls",
       "_model_module_version": "1.5.0",
       "_model_name": "HTMLModel",
       "_view_count": null,
       "_view_module": "@jupyter-widgets/controls",
       "_view_module_version": "1.5.0",
       "_view_name": "HTMLView",
       "description": "",
       "description_tooltip": null,
       "layout": "IPY_MODEL_9c44706e4a4342d2912a6d338042e404",
       "placeholder": "​",
       "style": "IPY_MODEL_100a3b15fb6b412f98cad907ed27bc79",
       "value": "100%"
      }
     },
     "8d49945ad7a04689a37005a65b388b60": {
      "model_module": "@jupyter-widgets/controls",
      "model_module_version": "1.5.0",
      "model_name": "ProgressStyleModel",
      "state": {
       "_model_module": "@jupyter-widgets/controls",
       "_model_module_version": "1.5.0",
       "_model_name": "ProgressStyleModel",
       "_view_count": null,
       "_view_module": "@jupyter-widgets/base",
       "_view_module_version": "1.2.0",
       "_view_name": "StyleView",
       "bar_color": null,
       "description_width": ""
      }
     },
     "92250f6174414572a450923a97e5622c": {
      "model_module": "@jupyter-widgets/base",
      "model_module_version": "1.2.0",
      "model_name": "LayoutModel",
      "state": {
       "_model_module": "@jupyter-widgets/base",
       "_model_module_version": "1.2.0",
       "_model_name": "LayoutModel",
       "_view_count": null,
       "_view_module": "@jupyter-widgets/base",
       "_view_module_version": "1.2.0",
       "_view_name": "LayoutView",
       "align_content": null,
       "align_items": null,
       "align_self": null,
       "border": null,
       "bottom": null,
       "display": null,
       "flex": null,
       "flex_flow": null,
       "grid_area": null,
       "grid_auto_columns": null,
       "grid_auto_flow": null,
       "grid_auto_rows": null,
       "grid_column": null,
       "grid_gap": null,
       "grid_row": null,
       "grid_template_areas": null,
       "grid_template_columns": null,
       "grid_template_rows": null,
       "height": null,
       "justify_content": null,
       "justify_items": null,
       "left": null,
       "margin": null,
       "max_height": null,
       "max_width": null,
       "min_height": null,
       "min_width": null,
       "object_fit": null,
       "object_position": null,
       "order": null,
       "overflow": null,
       "overflow_x": null,
       "overflow_y": null,
       "padding": null,
       "right": null,
       "top": null,
       "visibility": null,
       "width": null
      }
     },
     "97fe0d4fd1c840a9a4ccfd02269fca1c": {
      "model_module": "@jupyter-widgets/controls",
      "model_module_version": "1.5.0",
      "model_name": "DescriptionStyleModel",
      "state": {
       "_model_module": "@jupyter-widgets/controls",
       "_model_module_version": "1.5.0",
       "_model_name": "DescriptionStyleModel",
       "_view_count": null,
       "_view_module": "@jupyter-widgets/base",
       "_view_module_version": "1.2.0",
       "_view_name": "StyleView",
       "description_width": ""
      }
     },
     "9a56a0c8cdee493788211847f761252a": {
      "model_module": "@jupyter-widgets/controls",
      "model_module_version": "1.5.0",
      "model_name": "FloatProgressModel",
      "state": {
       "_dom_classes": [],
       "_model_module": "@jupyter-widgets/controls",
       "_model_module_version": "1.5.0",
       "_model_name": "FloatProgressModel",
       "_view_count": null,
       "_view_module": "@jupyter-widgets/controls",
       "_view_module_version": "1.5.0",
       "_view_name": "ProgressView",
       "bar_style": "success",
       "description": "",
       "description_tooltip": null,
       "layout": "IPY_MODEL_c8e48eab9e5a4194a0e999fb967795e5",
       "max": 100000.0,
       "min": 0.0,
       "orientation": "horizontal",
       "style": "IPY_MODEL_09807663f4b9435582844b5fea467772",
       "value": 100000.0
      }
     },
     "9c44706e4a4342d2912a6d338042e404": {
      "model_module": "@jupyter-widgets/base",
      "model_module_version": "1.2.0",
      "model_name": "LayoutModel",
      "state": {
       "_model_module": "@jupyter-widgets/base",
       "_model_module_version": "1.2.0",
       "_model_name": "LayoutModel",
       "_view_count": null,
       "_view_module": "@jupyter-widgets/base",
       "_view_module_version": "1.2.0",
       "_view_name": "LayoutView",
       "align_content": null,
       "align_items": null,
       "align_self": null,
       "border": null,
       "bottom": null,
       "display": null,
       "flex": null,
       "flex_flow": null,
       "grid_area": null,
       "grid_auto_columns": null,
       "grid_auto_flow": null,
       "grid_auto_rows": null,
       "grid_column": null,
       "grid_gap": null,
       "grid_row": null,
       "grid_template_areas": null,
       "grid_template_columns": null,
       "grid_template_rows": null,
       "height": null,
       "justify_content": null,
       "justify_items": null,
       "left": null,
       "margin": null,
       "max_height": null,
       "max_width": null,
       "min_height": null,
       "min_width": null,
       "object_fit": null,
       "object_position": null,
       "order": null,
       "overflow": null,
       "overflow_x": null,
       "overflow_y": null,
       "padding": null,
       "right": null,
       "top": null,
       "visibility": null,
       "width": null
      }
     },
     "aa2d3ba8008f492f9245c87ffa78c7e5": {
      "model_module": "@jupyter-widgets/controls",
      "model_module_version": "1.5.0",
      "model_name": "HBoxModel",
      "state": {
       "_dom_classes": [],
       "_model_module": "@jupyter-widgets/controls",
       "_model_module_version": "1.5.0",
       "_model_name": "HBoxModel",
       "_view_count": null,
       "_view_module": "@jupyter-widgets/controls",
       "_view_module_version": "1.5.0",
       "_view_name": "HBoxView",
       "box_style": "",
       "children": [
        "IPY_MODEL_fa2d03dd52894b448962972deb68004a",
        "IPY_MODEL_22582633041b4dbd91e9ec82de02394c",
        "IPY_MODEL_f20d3bbe95d94889bc17c558bb42219d"
       ],
       "layout": "IPY_MODEL_6e5b9972cc1845d28792adb3fdee2761"
      }
     },
     "ac7f1ea4231c4e33906013976c3fb5c4": {
      "model_module": "@jupyter-widgets/controls",
      "model_module_version": "1.5.0",
      "model_name": "HBoxModel",
      "state": {
       "_dom_classes": [],
       "_model_module": "@jupyter-widgets/controls",
       "_model_module_version": "1.5.0",
       "_model_name": "HBoxModel",
       "_view_count": null,
       "_view_module": "@jupyter-widgets/controls",
       "_view_module_version": "1.5.0",
       "_view_name": "HBoxView",
       "box_style": "",
       "children": [
        "IPY_MODEL_42491b28317b45baa2e08117c702b699",
        "IPY_MODEL_b566bcfac3d749c18336fe82980dfa96",
        "IPY_MODEL_845385db18394362a98837fb8c314434"
       ],
       "layout": "IPY_MODEL_dda25c9dfc664c8197199ed06609f39b"
      }
     },
     "ad8c2d42b0f24f69bc2b925182d0fc4d": {
      "model_module": "@jupyter-widgets/controls",
      "model_module_version": "1.5.0",
      "model_name": "DescriptionStyleModel",
      "state": {
       "_model_module": "@jupyter-widgets/controls",
       "_model_module_version": "1.5.0",
       "_model_name": "DescriptionStyleModel",
       "_view_count": null,
       "_view_module": "@jupyter-widgets/base",
       "_view_module_version": "1.2.0",
       "_view_name": "StyleView",
       "description_width": ""
      }
     },
     "adb64f6930584e8981e4864dcc209d63": {
      "model_module": "@jupyter-widgets/base",
      "model_module_version": "1.2.0",
      "model_name": "LayoutModel",
      "state": {
       "_model_module": "@jupyter-widgets/base",
       "_model_module_version": "1.2.0",
       "_model_name": "LayoutModel",
       "_view_count": null,
       "_view_module": "@jupyter-widgets/base",
       "_view_module_version": "1.2.0",
       "_view_name": "LayoutView",
       "align_content": null,
       "align_items": null,
       "align_self": null,
       "border": null,
       "bottom": null,
       "display": null,
       "flex": null,
       "flex_flow": null,
       "grid_area": null,
       "grid_auto_columns": null,
       "grid_auto_flow": null,
       "grid_auto_rows": null,
       "grid_column": null,
       "grid_gap": null,
       "grid_row": null,
       "grid_template_areas": null,
       "grid_template_columns": null,
       "grid_template_rows": null,
       "height": null,
       "justify_content": null,
       "justify_items": null,
       "left": null,
       "margin": null,
       "max_height": null,
       "max_width": null,
       "min_height": null,
       "min_width": null,
       "object_fit": null,
       "object_position": null,
       "order": null,
       "overflow": null,
       "overflow_x": null,
       "overflow_y": null,
       "padding": null,
       "right": null,
       "top": null,
       "visibility": null,
       "width": null
      }
     },
     "b566bcfac3d749c18336fe82980dfa96": {
      "model_module": "@jupyter-widgets/controls",
      "model_module_version": "1.5.0",
      "model_name": "FloatProgressModel",
      "state": {
       "_dom_classes": [],
       "_model_module": "@jupyter-widgets/controls",
       "_model_module_version": "1.5.0",
       "_model_name": "FloatProgressModel",
       "_view_count": null,
       "_view_module": "@jupyter-widgets/controls",
       "_view_module_version": "1.5.0",
       "_view_name": "ProgressView",
       "bar_style": "success",
       "description": "",
       "description_tooltip": null,
       "layout": "IPY_MODEL_011e9f4eda2349568265c15a6be6d0c1",
       "max": 100000.0,
       "min": 0.0,
       "orientation": "horizontal",
       "style": "IPY_MODEL_503a3d9f1de0425681dd2d72f282f080",
       "value": 100000.0
      }
     },
     "baa164115f33443db056b96acc615bce": {
      "model_module": "@jupyter-widgets/base",
      "model_module_version": "1.2.0",
      "model_name": "LayoutModel",
      "state": {
       "_model_module": "@jupyter-widgets/base",
       "_model_module_version": "1.2.0",
       "_model_name": "LayoutModel",
       "_view_count": null,
       "_view_module": "@jupyter-widgets/base",
       "_view_module_version": "1.2.0",
       "_view_name": "LayoutView",
       "align_content": null,
       "align_items": null,
       "align_self": null,
       "border": null,
       "bottom": null,
       "display": null,
       "flex": null,
       "flex_flow": null,
       "grid_area": null,
       "grid_auto_columns": null,
       "grid_auto_flow": null,
       "grid_auto_rows": null,
       "grid_column": null,
       "grid_gap": null,
       "grid_row": null,
       "grid_template_areas": null,
       "grid_template_columns": null,
       "grid_template_rows": null,
       "height": null,
       "justify_content": null,
       "justify_items": null,
       "left": null,
       "margin": null,
       "max_height": null,
       "max_width": null,
       "min_height": null,
       "min_width": null,
       "object_fit": null,
       "object_position": null,
       "order": null,
       "overflow": null,
       "overflow_x": null,
       "overflow_y": null,
       "padding": null,
       "right": null,
       "top": null,
       "visibility": null,
       "width": null
      }
     },
     "c7d5fb9140f44f25985b292b5a43ca88": {
      "model_module": "@jupyter-widgets/base",
      "model_module_version": "1.2.0",
      "model_name": "LayoutModel",
      "state": {
       "_model_module": "@jupyter-widgets/base",
       "_model_module_version": "1.2.0",
       "_model_name": "LayoutModel",
       "_view_count": null,
       "_view_module": "@jupyter-widgets/base",
       "_view_module_version": "1.2.0",
       "_view_name": "LayoutView",
       "align_content": null,
       "align_items": null,
       "align_self": null,
       "border": null,
       "bottom": null,
       "display": null,
       "flex": null,
       "flex_flow": null,
       "grid_area": null,
       "grid_auto_columns": null,
       "grid_auto_flow": null,
       "grid_auto_rows": null,
       "grid_column": null,
       "grid_gap": null,
       "grid_row": null,
       "grid_template_areas": null,
       "grid_template_columns": null,
       "grid_template_rows": null,
       "height": null,
       "justify_content": null,
       "justify_items": null,
       "left": null,
       "margin": null,
       "max_height": null,
       "max_width": null,
       "min_height": null,
       "min_width": null,
       "object_fit": null,
       "object_position": null,
       "order": null,
       "overflow": null,
       "overflow_x": null,
       "overflow_y": null,
       "padding": null,
       "right": null,
       "top": null,
       "visibility": null,
       "width": null
      }
     },
     "c8e48eab9e5a4194a0e999fb967795e5": {
      "model_module": "@jupyter-widgets/base",
      "model_module_version": "1.2.0",
      "model_name": "LayoutModel",
      "state": {
       "_model_module": "@jupyter-widgets/base",
       "_model_module_version": "1.2.0",
       "_model_name": "LayoutModel",
       "_view_count": null,
       "_view_module": "@jupyter-widgets/base",
       "_view_module_version": "1.2.0",
       "_view_name": "LayoutView",
       "align_content": null,
       "align_items": null,
       "align_self": null,
       "border": null,
       "bottom": null,
       "display": null,
       "flex": null,
       "flex_flow": null,
       "grid_area": null,
       "grid_auto_columns": null,
       "grid_auto_flow": null,
       "grid_auto_rows": null,
       "grid_column": null,
       "grid_gap": null,
       "grid_row": null,
       "grid_template_areas": null,
       "grid_template_columns": null,
       "grid_template_rows": null,
       "height": null,
       "justify_content": null,
       "justify_items": null,
       "left": null,
       "margin": null,
       "max_height": null,
       "max_width": null,
       "min_height": null,
       "min_width": null,
       "object_fit": null,
       "object_position": null,
       "order": null,
       "overflow": null,
       "overflow_x": null,
       "overflow_y": null,
       "padding": null,
       "right": null,
       "top": null,
       "visibility": null,
       "width": null
      }
     },
     "c9a31eb0e91249f2bbd5140be706a129": {
      "model_module": "@jupyter-widgets/base",
      "model_module_version": "1.2.0",
      "model_name": "LayoutModel",
      "state": {
       "_model_module": "@jupyter-widgets/base",
       "_model_module_version": "1.2.0",
       "_model_name": "LayoutModel",
       "_view_count": null,
       "_view_module": "@jupyter-widgets/base",
       "_view_module_version": "1.2.0",
       "_view_name": "LayoutView",
       "align_content": null,
       "align_items": null,
       "align_self": null,
       "border": null,
       "bottom": null,
       "display": null,
       "flex": null,
       "flex_flow": null,
       "grid_area": null,
       "grid_auto_columns": null,
       "grid_auto_flow": null,
       "grid_auto_rows": null,
       "grid_column": null,
       "grid_gap": null,
       "grid_row": null,
       "grid_template_areas": null,
       "grid_template_columns": null,
       "grid_template_rows": null,
       "height": null,
       "justify_content": null,
       "justify_items": null,
       "left": null,
       "margin": null,
       "max_height": null,
       "max_width": null,
       "min_height": null,
       "min_width": null,
       "object_fit": null,
       "object_position": null,
       "order": null,
       "overflow": null,
       "overflow_x": null,
       "overflow_y": null,
       "padding": null,
       "right": null,
       "top": null,
       "visibility": null,
       "width": null
      }
     },
     "cb48b4ace48f40599108cca7224ae3db": {
      "model_module": "@jupyter-widgets/controls",
      "model_module_version": "1.5.0",
      "model_name": "HTMLModel",
      "state": {
       "_dom_classes": [],
       "_model_module": "@jupyter-widgets/controls",
       "_model_module_version": "1.5.0",
       "_model_name": "HTMLModel",
       "_view_count": null,
       "_view_module": "@jupyter-widgets/controls",
       "_view_module_version": "1.5.0",
       "_view_name": "HTMLView",
       "description": "",
       "description_tooltip": null,
       "layout": "IPY_MODEL_6addb1eaf5d14e58a748fb976a85c1e5",
       "placeholder": "​",
       "style": "IPY_MODEL_30bce0bed8d945b6a48cf690b15a2758",
       "value": " 100000/100000 [00:03&lt;00:00, 26502.64it/s]"
      }
     },
     "d08ccba9a8c24399b2b16dec07c47d8f": {
      "model_module": "@jupyter-widgets/base",
      "model_module_version": "1.2.0",
      "model_name": "LayoutModel",
      "state": {
       "_model_module": "@jupyter-widgets/base",
       "_model_module_version": "1.2.0",
       "_model_name": "LayoutModel",
       "_view_count": null,
       "_view_module": "@jupyter-widgets/base",
       "_view_module_version": "1.2.0",
       "_view_name": "LayoutView",
       "align_content": null,
       "align_items": null,
       "align_self": null,
       "border": null,
       "bottom": null,
       "display": null,
       "flex": null,
       "flex_flow": null,
       "grid_area": null,
       "grid_auto_columns": null,
       "grid_auto_flow": null,
       "grid_auto_rows": null,
       "grid_column": null,
       "grid_gap": null,
       "grid_row": null,
       "grid_template_areas": null,
       "grid_template_columns": null,
       "grid_template_rows": null,
       "height": null,
       "justify_content": null,
       "justify_items": null,
       "left": null,
       "margin": null,
       "max_height": null,
       "max_width": null,
       "min_height": null,
       "min_width": null,
       "object_fit": null,
       "object_position": null,
       "order": null,
       "overflow": null,
       "overflow_x": null,
       "overflow_y": null,
       "padding": null,
       "right": null,
       "top": null,
       "visibility": null,
       "width": null
      }
     },
     "d3d6e79a94904505b73a09fd245e31ac": {
      "model_module": "@jupyter-widgets/controls",
      "model_module_version": "1.5.0",
      "model_name": "DescriptionStyleModel",
      "state": {
       "_model_module": "@jupyter-widgets/controls",
       "_model_module_version": "1.5.0",
       "_model_name": "DescriptionStyleModel",
       "_view_count": null,
       "_view_module": "@jupyter-widgets/base",
       "_view_module_version": "1.2.0",
       "_view_name": "StyleView",
       "description_width": ""
      }
     },
     "daea2df5bb064be9b12246b5e691d498": {
      "model_module": "@jupyter-widgets/controls",
      "model_module_version": "1.5.0",
      "model_name": "HTMLModel",
      "state": {
       "_dom_classes": [],
       "_model_module": "@jupyter-widgets/controls",
       "_model_module_version": "1.5.0",
       "_model_name": "HTMLModel",
       "_view_count": null,
       "_view_module": "@jupyter-widgets/controls",
       "_view_module_version": "1.5.0",
       "_view_name": "HTMLView",
       "description": "",
       "description_tooltip": null,
       "layout": "IPY_MODEL_baa164115f33443db056b96acc615bce",
       "placeholder": "​",
       "style": "IPY_MODEL_132d879f51164002ab79ec6b905b61f6",
       "value": " 100000/100000 [00:02&lt;00:00, 75550.32it/s]"
      }
     },
     "dbb74e07a0154a80bc986500e87959da": {
      "model_module": "@jupyter-widgets/controls",
      "model_module_version": "1.5.0",
      "model_name": "DescriptionStyleModel",
      "state": {
       "_model_module": "@jupyter-widgets/controls",
       "_model_module_version": "1.5.0",
       "_model_name": "DescriptionStyleModel",
       "_view_count": null,
       "_view_module": "@jupyter-widgets/base",
       "_view_module_version": "1.2.0",
       "_view_name": "StyleView",
       "description_width": ""
      }
     },
     "dda25c9dfc664c8197199ed06609f39b": {
      "model_module": "@jupyter-widgets/base",
      "model_module_version": "1.2.0",
      "model_name": "LayoutModel",
      "state": {
       "_model_module": "@jupyter-widgets/base",
       "_model_module_version": "1.2.0",
       "_model_name": "LayoutModel",
       "_view_count": null,
       "_view_module": "@jupyter-widgets/base",
       "_view_module_version": "1.2.0",
       "_view_name": "LayoutView",
       "align_content": null,
       "align_items": null,
       "align_self": null,
       "border": null,
       "bottom": null,
       "display": null,
       "flex": null,
       "flex_flow": null,
       "grid_area": null,
       "grid_auto_columns": null,
       "grid_auto_flow": null,
       "grid_auto_rows": null,
       "grid_column": null,
       "grid_gap": null,
       "grid_row": null,
       "grid_template_areas": null,
       "grid_template_columns": null,
       "grid_template_rows": null,
       "height": null,
       "justify_content": null,
       "justify_items": null,
       "left": null,
       "margin": null,
       "max_height": null,
       "max_width": null,
       "min_height": null,
       "min_width": null,
       "object_fit": null,
       "object_position": null,
       "order": null,
       "overflow": null,
       "overflow_x": null,
       "overflow_y": null,
       "padding": null,
       "right": null,
       "top": null,
       "visibility": null,
       "width": null
      }
     },
     "de87825abf214ed3b11e6601db85fb69": {
      "model_module": "@jupyter-widgets/base",
      "model_module_version": "1.2.0",
      "model_name": "LayoutModel",
      "state": {
       "_model_module": "@jupyter-widgets/base",
       "_model_module_version": "1.2.0",
       "_model_name": "LayoutModel",
       "_view_count": null,
       "_view_module": "@jupyter-widgets/base",
       "_view_module_version": "1.2.0",
       "_view_name": "LayoutView",
       "align_content": null,
       "align_items": null,
       "align_self": null,
       "border": null,
       "bottom": null,
       "display": null,
       "flex": null,
       "flex_flow": null,
       "grid_area": null,
       "grid_auto_columns": null,
       "grid_auto_flow": null,
       "grid_auto_rows": null,
       "grid_column": null,
       "grid_gap": null,
       "grid_row": null,
       "grid_template_areas": null,
       "grid_template_columns": null,
       "grid_template_rows": null,
       "height": null,
       "justify_content": null,
       "justify_items": null,
       "left": null,
       "margin": null,
       "max_height": null,
       "max_width": null,
       "min_height": null,
       "min_width": null,
       "object_fit": null,
       "object_position": null,
       "order": null,
       "overflow": null,
       "overflow_x": null,
       "overflow_y": null,
       "padding": null,
       "right": null,
       "top": null,
       "visibility": null,
       "width": null
      }
     },
     "dfbb5da1e87a4c8ba5a83b520e8a44ba": {
      "model_module": "@jupyter-widgets/controls",
      "model_module_version": "1.5.0",
      "model_name": "DescriptionStyleModel",
      "state": {
       "_model_module": "@jupyter-widgets/controls",
       "_model_module_version": "1.5.0",
       "_model_name": "DescriptionStyleModel",
       "_view_count": null,
       "_view_module": "@jupyter-widgets/base",
       "_view_module_version": "1.2.0",
       "_view_name": "StyleView",
       "description_width": ""
      }
     },
     "edca834e8eb047329cca37fb38c76bc4": {
      "model_module": "@jupyter-widgets/controls",
      "model_module_version": "1.5.0",
      "model_name": "FloatProgressModel",
      "state": {
       "_dom_classes": [],
       "_model_module": "@jupyter-widgets/controls",
       "_model_module_version": "1.5.0",
       "_model_name": "FloatProgressModel",
       "_view_count": null,
       "_view_module": "@jupyter-widgets/controls",
       "_view_module_version": "1.5.0",
       "_view_name": "ProgressView",
       "bar_style": "success",
       "description": "",
       "description_tooltip": null,
       "layout": "IPY_MODEL_f1c690d1da7949fab5d537e8616da6cd",
       "max": 100000.0,
       "min": 0.0,
       "orientation": "horizontal",
       "style": "IPY_MODEL_8d49945ad7a04689a37005a65b388b60",
       "value": 100000.0
      }
     },
     "f1c690d1da7949fab5d537e8616da6cd": {
      "model_module": "@jupyter-widgets/base",
      "model_module_version": "1.2.0",
      "model_name": "LayoutModel",
      "state": {
       "_model_module": "@jupyter-widgets/base",
       "_model_module_version": "1.2.0",
       "_model_name": "LayoutModel",
       "_view_count": null,
       "_view_module": "@jupyter-widgets/base",
       "_view_module_version": "1.2.0",
       "_view_name": "LayoutView",
       "align_content": null,
       "align_items": null,
       "align_self": null,
       "border": null,
       "bottom": null,
       "display": null,
       "flex": null,
       "flex_flow": null,
       "grid_area": null,
       "grid_auto_columns": null,
       "grid_auto_flow": null,
       "grid_auto_rows": null,
       "grid_column": null,
       "grid_gap": null,
       "grid_row": null,
       "grid_template_areas": null,
       "grid_template_columns": null,
       "grid_template_rows": null,
       "height": null,
       "justify_content": null,
       "justify_items": null,
       "left": null,
       "margin": null,
       "max_height": null,
       "max_width": null,
       "min_height": null,
       "min_width": null,
       "object_fit": null,
       "object_position": null,
       "order": null,
       "overflow": null,
       "overflow_x": null,
       "overflow_y": null,
       "padding": null,
       "right": null,
       "top": null,
       "visibility": null,
       "width": null
      }
     },
     "f20d3bbe95d94889bc17c558bb42219d": {
      "model_module": "@jupyter-widgets/controls",
      "model_module_version": "1.5.0",
      "model_name": "HTMLModel",
      "state": {
       "_dom_classes": [],
       "_model_module": "@jupyter-widgets/controls",
       "_model_module_version": "1.5.0",
       "_model_name": "HTMLModel",
       "_view_count": null,
       "_view_module": "@jupyter-widgets/controls",
       "_view_module_version": "1.5.0",
       "_view_name": "HTMLView",
       "description": "",
       "description_tooltip": null,
       "layout": "IPY_MODEL_c9a31eb0e91249f2bbd5140be706a129",
       "placeholder": "​",
       "style": "IPY_MODEL_dfbb5da1e87a4c8ba5a83b520e8a44ba",
       "value": " 100000/100000 [00:00&lt;00:00, 332714.47it/s]"
      }
     },
     "fa2d03dd52894b448962972deb68004a": {
      "model_module": "@jupyter-widgets/controls",
      "model_module_version": "1.5.0",
      "model_name": "HTMLModel",
      "state": {
       "_dom_classes": [],
       "_model_module": "@jupyter-widgets/controls",
       "_model_module_version": "1.5.0",
       "_model_name": "HTMLModel",
       "_view_count": null,
       "_view_module": "@jupyter-widgets/controls",
       "_view_module_version": "1.5.0",
       "_view_name": "HTMLView",
       "description": "",
       "description_tooltip": null,
       "layout": "IPY_MODEL_3b93589ca26a4ce8ab1db0ef76c88399",
       "placeholder": "​",
       "style": "IPY_MODEL_71993eb950744412b1acaa18b52c8b03",
       "value": "100%"
      }
     },
     "fc4e0a6a09ea465db53e8d7500c93396": {
      "model_module": "@jupyter-widgets/base",
      "model_module_version": "1.2.0",
      "model_name": "LayoutModel",
      "state": {
       "_model_module": "@jupyter-widgets/base",
       "_model_module_version": "1.2.0",
       "_model_name": "LayoutModel",
       "_view_count": null,
       "_view_module": "@jupyter-widgets/base",
       "_view_module_version": "1.2.0",
       "_view_name": "LayoutView",
       "align_content": null,
       "align_items": null,
       "align_self": null,
       "border": null,
       "bottom": null,
       "display": null,
       "flex": null,
       "flex_flow": null,
       "grid_area": null,
       "grid_auto_columns": null,
       "grid_auto_flow": null,
       "grid_auto_rows": null,
       "grid_column": null,
       "grid_gap": null,
       "grid_row": null,
       "grid_template_areas": null,
       "grid_template_columns": null,
       "grid_template_rows": null,
       "height": null,
       "justify_content": null,
       "justify_items": null,
       "left": null,
       "margin": null,
       "max_height": null,
       "max_width": null,
       "min_height": null,
       "min_width": null,
       "object_fit": null,
       "object_position": null,
       "order": null,
       "overflow": null,
       "overflow_x": null,
       "overflow_y": null,
       "padding": null,
       "right": null,
       "top": null,
       "visibility": null,
       "width": null
      }
     }
    },
    "version_major": 2,
    "version_minor": 0
   }
  }
 },
 "nbformat": 4,
 "nbformat_minor": 5
}
