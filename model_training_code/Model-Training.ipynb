{
 "cells": [
  {
   "cell_type": "markdown",
   "id": "af108513",
   "metadata": {
    "papermill": {
     "duration": 0.00372,
     "end_time": "2024-12-05T21:13:17.522843",
     "exception": false,
     "start_time": "2024-12-05T21:13:17.519123",
     "status": "completed"
    },
    "tags": []
   },
   "source": [
    "### Read the Data"
   ]
  },
  {
   "cell_type": "code",
   "execution_count": 1,
   "id": "ae2600f1",
   "metadata": {
    "execution": {
     "iopub.execute_input": "2024-12-05T21:13:17.530269Z",
     "iopub.status.busy": "2024-12-05T21:13:17.529951Z",
     "iopub.status.idle": "2024-12-05T21:13:34.965599Z",
     "shell.execute_reply": "2024-12-05T21:13:34.964708Z"
    },
    "papermill": {
     "duration": 17.441577,
     "end_time": "2024-12-05T21:13:34.967607",
     "exception": false,
     "start_time": "2024-12-05T21:13:17.526030",
     "status": "completed"
    },
    "tags": []
   },
   "outputs": [],
   "source": [
    "# Import Libraries\n",
    "import pandas as pd\n",
    "from sklearn.preprocessing import LabelEncoder\n",
    "from transformers import BertTokenizer, TFBertModel\n",
    "from sklearn.model_selection import train_test_split\n",
    "from tensorflow.keras.models import Model\n",
    "from tensorflow.keras.layers import Input, GRU, Dense, Dropout, BatchNormalization\n",
    "from tensorflow.keras.callbacks import EarlyStopping, ModelCheckpoint\n",
    "import tensorflow as tf"
   ]
  },
  {
   "cell_type": "code",
   "execution_count": 2,
   "id": "b07f7c19",
   "metadata": {
    "execution": {
     "iopub.execute_input": "2024-12-05T21:13:34.975090Z",
     "iopub.status.busy": "2024-12-05T21:13:34.974573Z",
     "iopub.status.idle": "2024-12-05T21:14:00.419504Z",
     "shell.execute_reply": "2024-12-05T21:14:00.418808Z"
    },
    "papermill": {
     "duration": 25.450778,
     "end_time": "2024-12-05T21:14:00.421653",
     "exception": false,
     "start_time": "2024-12-05T21:13:34.970875",
     "status": "completed"
    },
    "tags": []
   },
   "outputs": [],
   "source": [
    "import pandas as pd\n",
    "import ast\n",
    "\n",
    "# Read data from CSV\n",
    "file_path = '/kaggle/input/suicidal-dataset/clean_dataset.csv'\n",
    "df = pd.read_csv(file_path)\n",
    "\n",
    "# Convert string literals to Python lists\n",
    "df['text'] = df['text'].apply(lambda x: ast.literal_eval(x) if isinstance(x, str) else x)\n",
    "\n",
    "# Join lists into sentences\n",
    "df['text'] = df['text'].apply(lambda x: ' '.join(x) if isinstance(x, list) else x)\n",
    "\n",
    "\n"
   ]
  },
  {
   "cell_type": "code",
   "execution_count": 3,
   "id": "68871092",
   "metadata": {
    "execution": {
     "iopub.execute_input": "2024-12-05T21:14:00.429077Z",
     "iopub.status.busy": "2024-12-05T21:14:00.428802Z",
     "iopub.status.idle": "2024-12-05T21:14:00.440434Z",
     "shell.execute_reply": "2024-12-05T21:14:00.439634Z"
    },
    "papermill": {
     "duration": 0.017066,
     "end_time": "2024-12-05T21:14:00.442076",
     "exception": false,
     "start_time": "2024-12-05T21:14:00.425010",
     "status": "completed"
    },
    "tags": []
   },
   "outputs": [
    {
     "data": {
      "text/html": [
       "<div>\n",
       "<style scoped>\n",
       "    .dataframe tbody tr th:only-of-type {\n",
       "        vertical-align: middle;\n",
       "    }\n",
       "\n",
       "    .dataframe tbody tr th {\n",
       "        vertical-align: top;\n",
       "    }\n",
       "\n",
       "    .dataframe thead th {\n",
       "        text-align: right;\n",
       "    }\n",
       "</style>\n",
       "<table border=\"1\" class=\"dataframe\">\n",
       "  <thead>\n",
       "    <tr style=\"text-align: right;\">\n",
       "      <th></th>\n",
       "      <th>Unnamed: 0</th>\n",
       "      <th>text</th>\n",
       "      <th>class</th>\n",
       "    </tr>\n",
       "  </thead>\n",
       "  <tbody>\n",
       "    <tr>\n",
       "      <th>0</th>\n",
       "      <td>2</td>\n",
       "      <td>ex wife threaten suicide recently leave wife g...</td>\n",
       "      <td>suicide</td>\n",
       "    </tr>\n",
       "    <tr>\n",
       "      <th>1</th>\n",
       "      <td>3</td>\n",
       "      <td>weird get affect li come someone know feel rea...</td>\n",
       "      <td>non-suicide</td>\n",
       "    </tr>\n",
       "    <tr>\n",
       "      <th>2</th>\n",
       "      <td>4</td>\n",
       "      <td>finally almost never hear bad year ever swear ...</td>\n",
       "      <td>non-suicide</td>\n",
       "    </tr>\n",
       "    <tr>\n",
       "      <th>3</th>\n",
       "      <td>8</td>\n",
       "      <td>need help help cry hard</td>\n",
       "      <td>suicide</td>\n",
       "    </tr>\n",
       "    <tr>\n",
       "      <th>4</th>\n",
       "      <td>9</td>\n",
       "      <td>lose hello name struggle year afraid past year...</td>\n",
       "      <td>suicide</td>\n",
       "    </tr>\n",
       "  </tbody>\n",
       "</table>\n",
       "</div>"
      ],
      "text/plain": [
       "   Unnamed: 0                                               text        class\n",
       "0           2  ex wife threaten suicide recently leave wife g...      suicide\n",
       "1           3  weird get affect li come someone know feel rea...  non-suicide\n",
       "2           4  finally almost never hear bad year ever swear ...  non-suicide\n",
       "3           8                            need help help cry hard      suicide\n",
       "4           9  lose hello name struggle year afraid past year...      suicide"
      ]
     },
     "execution_count": 3,
     "metadata": {},
     "output_type": "execute_result"
    }
   ],
   "source": [
    "df.head()"
   ]
  },
  {
   "cell_type": "code",
   "execution_count": null,
   "id": "076d6f5d",
   "metadata": {
    "papermill": {
     "duration": 0.002861,
     "end_time": "2024-12-05T21:14:00.449180",
     "exception": false,
     "start_time": "2024-12-05T21:14:00.446319",
     "status": "completed"
    },
    "tags": []
   },
   "outputs": [],
   "source": []
  },
  {
   "cell_type": "markdown",
   "id": "50a1a468",
   "metadata": {
    "papermill": {
     "duration": 0.00294,
     "end_time": "2024-12-05T21:14:00.455095",
     "exception": false,
     "start_time": "2024-12-05T21:14:00.452155",
     "status": "completed"
    },
    "tags": []
   },
   "source": [
    "## Modelling"
   ]
  },
  {
   "cell_type": "markdown",
   "id": "d04f5bca",
   "metadata": {
    "papermill": {
     "duration": 0.002815,
     "end_time": "2024-12-05T21:14:00.460966",
     "exception": false,
     "start_time": "2024-12-05T21:14:00.458151",
     "status": "completed"
    },
    "tags": []
   },
   "source": [
    "### Tokenization"
   ]
  },
  {
   "cell_type": "code",
   "execution_count": 4,
   "id": "62308aae",
   "metadata": {
    "execution": {
     "iopub.execute_input": "2024-12-05T21:14:00.469228Z",
     "iopub.status.busy": "2024-12-05T21:14:00.468935Z",
     "iopub.status.idle": "2024-12-05T21:14:28.355648Z",
     "shell.execute_reply": "2024-12-05T21:14:28.354810Z"
    },
    "papermill": {
     "duration": 27.893796,
     "end_time": "2024-12-05T21:14:28.357709",
     "exception": false,
     "start_time": "2024-12-05T21:14:00.463913",
     "status": "completed"
    },
    "tags": []
   },
   "outputs": [],
   "source": [
    "from tensorflow.keras.preprocessing.text import Tokenizer\n",
    "from tensorflow.keras.preprocessing.sequence import pad_sequences\n",
    "import gensim.downloader as api\n",
    "import numpy as np\n",
    "from sklearn.model_selection import train_test_split\n",
    "from keras.models import Sequential\n",
    "from keras.layers import Embedding, Dropout, Dense\n",
    "from keras.layers import GRU\n",
    "from keras.callbacks import EarlyStopping, ModelCheckpoint\n",
    "from tensorflow.keras.models import Sequential\n",
    "from tensorflow.keras.layers import Embedding, GRU, Dense, Dropout, Bidirectional, Input\n",
    "\n",
    "# Configuration\n",
    "EMBEDDING_DIM = 100  # Dimension of word embeddings\n",
    "MAX_NUM_WORDS = 10000  # Maximum number of unique words\n",
    "MAX_SEQUENCE_LENGTH = 200  # Fixed sequence length for all input data\n",
    "\n",
    "\n",
    "\n",
    "# Tokenizer: Train and convert text to sequences\n",
    "tokenizer = Tokenizer(num_words=MAX_NUM_WORDS, lower=True)  # Limit vocabulary size and convert to lowercase\n",
    "tokenizer.fit_on_texts(df['text'])  # Learn the vocabulary from the text data\n",
    "X = tokenizer.texts_to_sequences(df['text'])  # Convert text to numerical sequences\n",
    "\n",
    "# Pad sequences to ensure uniform length\n",
    "X = pad_sequences(X, maxlen=MAX_SEQUENCE_LENGTH, padding='post')  # Add padding at the end of sequences\n"
   ]
  },
  {
   "cell_type": "code",
   "execution_count": 5,
   "id": "5b420384",
   "metadata": {
    "execution": {
     "iopub.execute_input": "2024-12-05T21:14:28.365638Z",
     "iopub.status.busy": "2024-12-05T21:14:28.365359Z",
     "iopub.status.idle": "2024-12-05T21:14:28.388530Z",
     "shell.execute_reply": "2024-12-05T21:14:28.387498Z"
    },
    "papermill": {
     "duration": 0.028994,
     "end_time": "2024-12-05T21:14:28.390201",
     "exception": false,
     "start_time": "2024-12-05T21:14:28.361207",
     "status": "completed"
    },
    "tags": []
   },
   "outputs": [
    {
     "name": "stdout",
     "output_type": "stream",
     "text": [
      "Tokenizer has been saved to tokenizer.pkl\n"
     ]
    }
   ],
   "source": [
    "import pickle\n",
    "\n",
    "# Save the tokenizer to a .pkl file\n",
    "with open('tokenizer.pkl', 'wb') as file:\n",
    "    pickle.dump(tokenizer, file)\n",
    "print(\"Tokenizer has been saved to tokenizer.pkl\")\n"
   ]
  },
  {
   "cell_type": "code",
   "execution_count": 6,
   "id": "7c5d9a68",
   "metadata": {
    "execution": {
     "iopub.execute_input": "2024-12-05T21:14:28.397912Z",
     "iopub.status.busy": "2024-12-05T21:14:28.397326Z",
     "iopub.status.idle": "2024-12-05T21:14:28.508599Z",
     "shell.execute_reply": "2024-12-05T21:14:28.507919Z"
    },
    "papermill": {
     "duration": 0.117233,
     "end_time": "2024-12-05T21:14:28.510651",
     "exception": false,
     "start_time": "2024-12-05T21:14:28.393418",
     "status": "completed"
    },
    "tags": []
   },
   "outputs": [],
   "source": [
    "# Convert labels to one-hot encoding\n",
    "y = pd.get_dummies(df['class']).values  # Transform class labels into a binary matrix\n",
    "\n",
    "# Split data into training and testing sets\n",
    "X_train, X_test, y_train, y_test = train_test_split(X, y, test_size=0.3, random_state=42)\n",
    "# `test_size=0.3` allocates 30% of the data for testing, 70% for training\n",
    "# `random_state=42` ensures reproducibility of the split"
   ]
  },
  {
   "cell_type": "markdown",
   "id": "ace0a491",
   "metadata": {
    "papermill": {
     "duration": 0.003015,
     "end_time": "2024-12-05T21:14:28.517331",
     "exception": false,
     "start_time": "2024-12-05T21:14:28.514316",
     "status": "completed"
    },
    "tags": []
   },
   "source": [
    "### Word Embedding"
   ]
  },
  {
   "cell_type": "code",
   "execution_count": 7,
   "id": "adbe58aa",
   "metadata": {
    "execution": {
     "iopub.execute_input": "2024-12-05T21:14:28.524535Z",
     "iopub.status.busy": "2024-12-05T21:14:28.524283Z",
     "iopub.status.idle": "2024-12-05T21:15:15.006010Z",
     "shell.execute_reply": "2024-12-05T21:15:15.005234Z"
    },
    "papermill": {
     "duration": 46.487682,
     "end_time": "2024-12-05T21:15:15.008130",
     "exception": false,
     "start_time": "2024-12-05T21:14:28.520448",
     "status": "completed"
    },
    "tags": []
   },
   "outputs": [
    {
     "name": "stdout",
     "output_type": "stream",
     "text": [
      "[==================================================] 100.0% 128.1/128.1MB downloaded\n"
     ]
    }
   ],
   "source": [
    "# Download and load pre-trained GloVe embeddings (100 dimensions)\n",
    "glove_gensim = api.load('glove-wiki-gigaword-100')\n",
    "\n",
    "# Create a weight matrix for the embedding layer\n",
    "gensim_weight_matrix = np.zeros((MAX_NUM_WORDS, EMBEDDING_DIM))  # Initialize with zeros\n",
    "\n",
    "# Populate the weight matrix with GloVe vectors for words in the tokenizer's vocabulary\n",
    "for word, index in tokenizer.word_index.items():\n",
    "    if index < MAX_NUM_WORDS:  # Ensure the index is within the specified maximum word limit\n",
    "        if word in glove_gensim.index_to_key:  # Check if the word exists in the GloVe vocabulary\n",
    "            gensim_weight_matrix[index] = glove_gensim[word]  # Assign the GloVe vector\n",
    "        else:\n",
    "            gensim_weight_matrix[index] = np.zeros(EMBEDDING_DIM)  # Assign a zero vector if the word is not found"
   ]
  },
  {
   "cell_type": "markdown",
   "id": "b3b335a4",
   "metadata": {
    "papermill": {
     "duration": 0.757448,
     "end_time": "2024-12-05T21:15:16.532039",
     "exception": false,
     "start_time": "2024-12-05T21:15:15.774591",
     "status": "completed"
    },
    "tags": []
   },
   "source": [
    "### Model Building"
   ]
  },
  {
   "cell_type": "code",
   "execution_count": 8,
   "id": "0f664278",
   "metadata": {
    "execution": {
     "iopub.execute_input": "2024-12-05T21:15:18.003830Z",
     "iopub.status.busy": "2024-12-05T21:15:18.003462Z",
     "iopub.status.idle": "2024-12-05T21:15:19.247901Z",
     "shell.execute_reply": "2024-12-05T21:15:19.247046Z"
    },
    "papermill": {
     "duration": 1.960914,
     "end_time": "2024-12-05T21:15:19.249587",
     "exception": false,
     "start_time": "2024-12-05T21:15:17.288673",
     "status": "completed"
    },
    "tags": []
   },
   "outputs": [
    {
     "data": {
      "text/html": [
       "<pre style=\"white-space:pre;overflow-x:auto;line-height:normal;font-family:Menlo,'DejaVu Sans Mono',consolas,'Courier New',monospace\"><span style=\"font-weight: bold\">Model: \"sequential\"</span>\n",
       "</pre>\n"
      ],
      "text/plain": [
       "\u001b[1mModel: \"sequential\"\u001b[0m\n"
      ]
     },
     "metadata": {},
     "output_type": "display_data"
    },
    {
     "data": {
      "text/html": [
       "<pre style=\"white-space:pre;overflow-x:auto;line-height:normal;font-family:Menlo,'DejaVu Sans Mono',consolas,'Courier New',monospace\">┏━━━━━━━━━━━━━━━━━━━━━━━━━━━━━━━━━┳━━━━━━━━━━━━━━━━━━━━━━━━┳━━━━━━━━━━━━━━━┓\n",
       "┃<span style=\"font-weight: bold\"> Layer (type)                    </span>┃<span style=\"font-weight: bold\"> Output Shape           </span>┃<span style=\"font-weight: bold\">       Param # </span>┃\n",
       "┡━━━━━━━━━━━━━━━━━━━━━━━━━━━━━━━━━╇━━━━━━━━━━━━━━━━━━━━━━━━╇━━━━━━━━━━━━━━━┩\n",
       "│ embedding (<span style=\"color: #0087ff; text-decoration-color: #0087ff\">Embedding</span>)           │ (<span style=\"color: #00d7ff; text-decoration-color: #00d7ff\">None</span>, <span style=\"color: #00af00; text-decoration-color: #00af00\">200</span>, <span style=\"color: #00af00; text-decoration-color: #00af00\">100</span>)       │     <span style=\"color: #00af00; text-decoration-color: #00af00\">1,000,000</span> │\n",
       "├─────────────────────────────────┼────────────────────────┼───────────────┤\n",
       "│ dropout (<span style=\"color: #0087ff; text-decoration-color: #0087ff\">Dropout</span>)               │ (<span style=\"color: #00d7ff; text-decoration-color: #00d7ff\">None</span>, <span style=\"color: #00af00; text-decoration-color: #00af00\">200</span>, <span style=\"color: #00af00; text-decoration-color: #00af00\">100</span>)       │             <span style=\"color: #00af00; text-decoration-color: #00af00\">0</span> │\n",
       "├─────────────────────────────────┼────────────────────────┼───────────────┤\n",
       "│ gru (<span style=\"color: #0087ff; text-decoration-color: #0087ff\">GRU</span>)                       │ (<span style=\"color: #00d7ff; text-decoration-color: #00d7ff\">None</span>, <span style=\"color: #00af00; text-decoration-color: #00af00\">200</span>, <span style=\"color: #00af00; text-decoration-color: #00af00\">100</span>)       │        <span style=\"color: #00af00; text-decoration-color: #00af00\">60,600</span> │\n",
       "├─────────────────────────────────┼────────────────────────┼───────────────┤\n",
       "│ dropout_1 (<span style=\"color: #0087ff; text-decoration-color: #0087ff\">Dropout</span>)             │ (<span style=\"color: #00d7ff; text-decoration-color: #00d7ff\">None</span>, <span style=\"color: #00af00; text-decoration-color: #00af00\">200</span>, <span style=\"color: #00af00; text-decoration-color: #00af00\">100</span>)       │             <span style=\"color: #00af00; text-decoration-color: #00af00\">0</span> │\n",
       "├─────────────────────────────────┼────────────────────────┼───────────────┤\n",
       "│ gru_1 (<span style=\"color: #0087ff; text-decoration-color: #0087ff\">GRU</span>)                     │ (<span style=\"color: #00d7ff; text-decoration-color: #00d7ff\">None</span>, <span style=\"color: #00af00; text-decoration-color: #00af00\">200</span>, <span style=\"color: #00af00; text-decoration-color: #00af00\">100</span>)       │        <span style=\"color: #00af00; text-decoration-color: #00af00\">60,600</span> │\n",
       "├─────────────────────────────────┼────────────────────────┼───────────────┤\n",
       "│ dropout_2 (<span style=\"color: #0087ff; text-decoration-color: #0087ff\">Dropout</span>)             │ (<span style=\"color: #00d7ff; text-decoration-color: #00d7ff\">None</span>, <span style=\"color: #00af00; text-decoration-color: #00af00\">200</span>, <span style=\"color: #00af00; text-decoration-color: #00af00\">100</span>)       │             <span style=\"color: #00af00; text-decoration-color: #00af00\">0</span> │\n",
       "├─────────────────────────────────┼────────────────────────┼───────────────┤\n",
       "│ gru_2 (<span style=\"color: #0087ff; text-decoration-color: #0087ff\">GRU</span>)                     │ (<span style=\"color: #00d7ff; text-decoration-color: #00d7ff\">None</span>, <span style=\"color: #00af00; text-decoration-color: #00af00\">100</span>)            │        <span style=\"color: #00af00; text-decoration-color: #00af00\">60,600</span> │\n",
       "├─────────────────────────────────┼────────────────────────┼───────────────┤\n",
       "│ batch_normalization             │ (<span style=\"color: #00d7ff; text-decoration-color: #00d7ff\">None</span>, <span style=\"color: #00af00; text-decoration-color: #00af00\">100</span>)            │           <span style=\"color: #00af00; text-decoration-color: #00af00\">400</span> │\n",
       "│ (<span style=\"color: #0087ff; text-decoration-color: #0087ff\">BatchNormalization</span>)            │                        │               │\n",
       "├─────────────────────────────────┼────────────────────────┼───────────────┤\n",
       "│ dropout_3 (<span style=\"color: #0087ff; text-decoration-color: #0087ff\">Dropout</span>)             │ (<span style=\"color: #00d7ff; text-decoration-color: #00d7ff\">None</span>, <span style=\"color: #00af00; text-decoration-color: #00af00\">100</span>)            │             <span style=\"color: #00af00; text-decoration-color: #00af00\">0</span> │\n",
       "├─────────────────────────────────┼────────────────────────┼───────────────┤\n",
       "│ dense (<span style=\"color: #0087ff; text-decoration-color: #0087ff\">Dense</span>)                   │ (<span style=\"color: #00d7ff; text-decoration-color: #00d7ff\">None</span>, <span style=\"color: #00af00; text-decoration-color: #00af00\">64</span>)             │         <span style=\"color: #00af00; text-decoration-color: #00af00\">6,464</span> │\n",
       "├─────────────────────────────────┼────────────────────────┼───────────────┤\n",
       "│ dropout_4 (<span style=\"color: #0087ff; text-decoration-color: #0087ff\">Dropout</span>)             │ (<span style=\"color: #00d7ff; text-decoration-color: #00d7ff\">None</span>, <span style=\"color: #00af00; text-decoration-color: #00af00\">64</span>)             │             <span style=\"color: #00af00; text-decoration-color: #00af00\">0</span> │\n",
       "├─────────────────────────────────┼────────────────────────┼───────────────┤\n",
       "│ dense_1 (<span style=\"color: #0087ff; text-decoration-color: #0087ff\">Dense</span>)                 │ (<span style=\"color: #00d7ff; text-decoration-color: #00d7ff\">None</span>, <span style=\"color: #00af00; text-decoration-color: #00af00\">2</span>)              │           <span style=\"color: #00af00; text-decoration-color: #00af00\">130</span> │\n",
       "└─────────────────────────────────┴────────────────────────┴───────────────┘\n",
       "</pre>\n"
      ],
      "text/plain": [
       "┏━━━━━━━━━━━━━━━━━━━━━━━━━━━━━━━━━┳━━━━━━━━━━━━━━━━━━━━━━━━┳━━━━━━━━━━━━━━━┓\n",
       "┃\u001b[1m \u001b[0m\u001b[1mLayer (type)                   \u001b[0m\u001b[1m \u001b[0m┃\u001b[1m \u001b[0m\u001b[1mOutput Shape          \u001b[0m\u001b[1m \u001b[0m┃\u001b[1m \u001b[0m\u001b[1m      Param #\u001b[0m\u001b[1m \u001b[0m┃\n",
       "┡━━━━━━━━━━━━━━━━━━━━━━━━━━━━━━━━━╇━━━━━━━━━━━━━━━━━━━━━━━━╇━━━━━━━━━━━━━━━┩\n",
       "│ embedding (\u001b[38;5;33mEmbedding\u001b[0m)           │ (\u001b[38;5;45mNone\u001b[0m, \u001b[38;5;34m200\u001b[0m, \u001b[38;5;34m100\u001b[0m)       │     \u001b[38;5;34m1,000,000\u001b[0m │\n",
       "├─────────────────────────────────┼────────────────────────┼───────────────┤\n",
       "│ dropout (\u001b[38;5;33mDropout\u001b[0m)               │ (\u001b[38;5;45mNone\u001b[0m, \u001b[38;5;34m200\u001b[0m, \u001b[38;5;34m100\u001b[0m)       │             \u001b[38;5;34m0\u001b[0m │\n",
       "├─────────────────────────────────┼────────────────────────┼───────────────┤\n",
       "│ gru (\u001b[38;5;33mGRU\u001b[0m)                       │ (\u001b[38;5;45mNone\u001b[0m, \u001b[38;5;34m200\u001b[0m, \u001b[38;5;34m100\u001b[0m)       │        \u001b[38;5;34m60,600\u001b[0m │\n",
       "├─────────────────────────────────┼────────────────────────┼───────────────┤\n",
       "│ dropout_1 (\u001b[38;5;33mDropout\u001b[0m)             │ (\u001b[38;5;45mNone\u001b[0m, \u001b[38;5;34m200\u001b[0m, \u001b[38;5;34m100\u001b[0m)       │             \u001b[38;5;34m0\u001b[0m │\n",
       "├─────────────────────────────────┼────────────────────────┼───────────────┤\n",
       "│ gru_1 (\u001b[38;5;33mGRU\u001b[0m)                     │ (\u001b[38;5;45mNone\u001b[0m, \u001b[38;5;34m200\u001b[0m, \u001b[38;5;34m100\u001b[0m)       │        \u001b[38;5;34m60,600\u001b[0m │\n",
       "├─────────────────────────────────┼────────────────────────┼───────────────┤\n",
       "│ dropout_2 (\u001b[38;5;33mDropout\u001b[0m)             │ (\u001b[38;5;45mNone\u001b[0m, \u001b[38;5;34m200\u001b[0m, \u001b[38;5;34m100\u001b[0m)       │             \u001b[38;5;34m0\u001b[0m │\n",
       "├─────────────────────────────────┼────────────────────────┼───────────────┤\n",
       "│ gru_2 (\u001b[38;5;33mGRU\u001b[0m)                     │ (\u001b[38;5;45mNone\u001b[0m, \u001b[38;5;34m100\u001b[0m)            │        \u001b[38;5;34m60,600\u001b[0m │\n",
       "├─────────────────────────────────┼────────────────────────┼───────────────┤\n",
       "│ batch_normalization             │ (\u001b[38;5;45mNone\u001b[0m, \u001b[38;5;34m100\u001b[0m)            │           \u001b[38;5;34m400\u001b[0m │\n",
       "│ (\u001b[38;5;33mBatchNormalization\u001b[0m)            │                        │               │\n",
       "├─────────────────────────────────┼────────────────────────┼───────────────┤\n",
       "│ dropout_3 (\u001b[38;5;33mDropout\u001b[0m)             │ (\u001b[38;5;45mNone\u001b[0m, \u001b[38;5;34m100\u001b[0m)            │             \u001b[38;5;34m0\u001b[0m │\n",
       "├─────────────────────────────────┼────────────────────────┼───────────────┤\n",
       "│ dense (\u001b[38;5;33mDense\u001b[0m)                   │ (\u001b[38;5;45mNone\u001b[0m, \u001b[38;5;34m64\u001b[0m)             │         \u001b[38;5;34m6,464\u001b[0m │\n",
       "├─────────────────────────────────┼────────────────────────┼───────────────┤\n",
       "│ dropout_4 (\u001b[38;5;33mDropout\u001b[0m)             │ (\u001b[38;5;45mNone\u001b[0m, \u001b[38;5;34m64\u001b[0m)             │             \u001b[38;5;34m0\u001b[0m │\n",
       "├─────────────────────────────────┼────────────────────────┼───────────────┤\n",
       "│ dense_1 (\u001b[38;5;33mDense\u001b[0m)                 │ (\u001b[38;5;45mNone\u001b[0m, \u001b[38;5;34m2\u001b[0m)              │           \u001b[38;5;34m130\u001b[0m │\n",
       "└─────────────────────────────────┴────────────────────────┴───────────────┘\n"
      ]
     },
     "metadata": {},
     "output_type": "display_data"
    },
    {
     "data": {
      "text/html": [
       "<pre style=\"white-space:pre;overflow-x:auto;line-height:normal;font-family:Menlo,'DejaVu Sans Mono',consolas,'Courier New',monospace\"><span style=\"font-weight: bold\"> Total params: </span><span style=\"color: #00af00; text-decoration-color: #00af00\">1,188,794</span> (4.53 MB)\n",
       "</pre>\n"
      ],
      "text/plain": [
       "\u001b[1m Total params: \u001b[0m\u001b[38;5;34m1,188,794\u001b[0m (4.53 MB)\n"
      ]
     },
     "metadata": {},
     "output_type": "display_data"
    },
    {
     "data": {
      "text/html": [
       "<pre style=\"white-space:pre;overflow-x:auto;line-height:normal;font-family:Menlo,'DejaVu Sans Mono',consolas,'Courier New',monospace\"><span style=\"font-weight: bold\"> Trainable params: </span><span style=\"color: #00af00; text-decoration-color: #00af00\">188,594</span> (736.70 KB)\n",
       "</pre>\n"
      ],
      "text/plain": [
       "\u001b[1m Trainable params: \u001b[0m\u001b[38;5;34m188,594\u001b[0m (736.70 KB)\n"
      ]
     },
     "metadata": {},
     "output_type": "display_data"
    },
    {
     "data": {
      "text/html": [
       "<pre style=\"white-space:pre;overflow-x:auto;line-height:normal;font-family:Menlo,'DejaVu Sans Mono',consolas,'Courier New',monospace\"><span style=\"font-weight: bold\"> Non-trainable params: </span><span style=\"color: #00af00; text-decoration-color: #00af00\">1,000,200</span> (3.82 MB)\n",
       "</pre>\n"
      ],
      "text/plain": [
       "\u001b[1m Non-trainable params: \u001b[0m\u001b[38;5;34m1,000,200\u001b[0m (3.82 MB)\n"
      ]
     },
     "metadata": {},
     "output_type": "display_data"
    }
   ],
   "source": [
    "from tensorflow.keras.models import Sequential\n",
    "from tensorflow.keras.layers import Embedding, GRU, Dense, Dropout, Input, BatchNormalization\n",
    "\n",
    "# Build the model\n",
    "model = Sequential()\n",
    "\n",
    "# Input layer\n",
    "model.add(Input(shape=(X.shape[1],)))\n",
    "\n",
    "# Embedding layer with pre-trained GloVe embeddings\n",
    "model.add(Embedding(input_dim=MAX_NUM_WORDS,\n",
    "                    output_dim=EMBEDDING_DIM,\n",
    "                    weights=[gensim_weight_matrix],\n",
    "                    trainable=False)) \n",
    "\n",
    "# Dropout layer\n",
    "model.add(Dropout(0.2))\n",
    "\n",
    "# GRU layer 1\n",
    "model.add(GRU(100, return_sequences=True))\n",
    "\n",
    "# Dropout layer\n",
    "model.add(Dropout(0.2))\n",
    "\n",
    "# GRU layer 2\n",
    "model.add(GRU(100, return_sequences=True))\n",
    "\n",
    "# Dropout layer\n",
    "model.add(Dropout(0.2))\n",
    "\n",
    "# GRU layer 3\n",
    "model.add(GRU(100, return_sequences=False))\n",
    "\n",
    "# BatchNormalization layer\n",
    "model.add(BatchNormalization())\n",
    "\n",
    "# Dropout layer\n",
    "model.add(Dropout(0.3))\n",
    "\n",
    "# Dense layer\n",
    "model.add(Dense(64, activation='relu'))\n",
    "\n",
    "# Dropout layer\n",
    "model.add(Dropout(0.3))\n",
    "\n",
    "# Output layer\n",
    "model.add(Dense(y.shape[1], activation='sigmoid'))\n",
    "\n",
    "# Compile the model\n",
    "model.compile(loss='binary_crossentropy',\n",
    "              optimizer='adam',\n",
    "              metrics=['accuracy'])\n",
    "\n",
    "\n",
    "# Display model summary\n",
    "model.summary()\n"
   ]
  },
  {
   "cell_type": "markdown",
   "id": "dbfe4f12",
   "metadata": {
    "papermill": {
     "duration": 0.750979,
     "end_time": "2024-12-05T21:15:20.757826",
     "exception": false,
     "start_time": "2024-12-05T21:15:20.006847",
     "status": "completed"
    },
    "tags": []
   },
   "source": [
    "### Train the Model"
   ]
  },
  {
   "cell_type": "code",
   "execution_count": 9,
   "id": "c63e2db8",
   "metadata": {
    "execution": {
     "iopub.execute_input": "2024-12-05T21:15:22.218035Z",
     "iopub.status.busy": "2024-12-05T21:15:22.217675Z",
     "iopub.status.idle": "2024-12-05T21:37:19.842075Z",
     "shell.execute_reply": "2024-12-05T21:37:19.841210Z"
    },
    "papermill": {
     "duration": 1319.736219,
     "end_time": "2024-12-05T21:37:21.203604",
     "exception": false,
     "start_time": "2024-12-05T21:15:21.467385",
     "status": "completed"
    },
    "tags": []
   },
   "outputs": [
    {
     "name": "stdout",
     "output_type": "stream",
     "text": [
      "Epoch 1/50\n",
      "\u001b[1m2539/2539\u001b[0m \u001b[32m━━━━━━━━━━━━━━━━━━━━\u001b[0m\u001b[37m\u001b[0m \u001b[1m0s\u001b[0m 37ms/step - accuracy: 0.7056 - loss: 0.4996\n",
      "Epoch 1: val_accuracy improved from -inf to 0.91514, saving model to best_model.weights.h5\n",
      "\u001b[1m2539/2539\u001b[0m \u001b[32m━━━━━━━━━━━━━━━━━━━━\u001b[0m\u001b[37m\u001b[0m \u001b[1m115s\u001b[0m 43ms/step - accuracy: 0.7056 - loss: 0.4996 - val_accuracy: 0.9151 - val_loss: 0.2189\n",
      "Epoch 2/50\n",
      "\u001b[1m2539/2539\u001b[0m \u001b[32m━━━━━━━━━━━━━━━━━━━━\u001b[0m\u001b[37m\u001b[0m \u001b[1m0s\u001b[0m 37ms/step - accuracy: 0.9144 - loss: 0.2244\n",
      "Epoch 2: val_accuracy improved from 0.91514 to 0.92464, saving model to best_model.weights.h5\n",
      "\u001b[1m2539/2539\u001b[0m \u001b[32m━━━━━━━━━━━━━━━━━━━━\u001b[0m\u001b[37m\u001b[0m \u001b[1m110s\u001b[0m 43ms/step - accuracy: 0.9144 - loss: 0.2244 - val_accuracy: 0.9246 - val_loss: 0.1956\n",
      "Epoch 3/50\n",
      "\u001b[1m2539/2539\u001b[0m \u001b[32m━━━━━━━━━━━━━━━━━━━━\u001b[0m\u001b[37m\u001b[0m \u001b[1m0s\u001b[0m 37ms/step - accuracy: 0.9236 - loss: 0.2034\n",
      "Epoch 3: val_accuracy did not improve from 0.92464\n",
      "\u001b[1m2539/2539\u001b[0m \u001b[32m━━━━━━━━━━━━━━━━━━━━\u001b[0m\u001b[37m\u001b[0m \u001b[1m109s\u001b[0m 43ms/step - accuracy: 0.9236 - loss: 0.2034 - val_accuracy: 0.9231 - val_loss: 0.2004\n",
      "Epoch 4/50\n",
      "\u001b[1m2539/2539\u001b[0m \u001b[32m━━━━━━━━━━━━━━━━━━━━\u001b[0m\u001b[37m\u001b[0m \u001b[1m0s\u001b[0m 37ms/step - accuracy: 0.9255 - loss: 0.1992\n",
      "Epoch 4: val_accuracy improved from 0.92464 to 0.93041, saving model to best_model.weights.h5\n",
      "\u001b[1m2539/2539\u001b[0m \u001b[32m━━━━━━━━━━━━━━━━━━━━\u001b[0m\u001b[37m\u001b[0m \u001b[1m109s\u001b[0m 43ms/step - accuracy: 0.9255 - loss: 0.1992 - val_accuracy: 0.9304 - val_loss: 0.1851\n",
      "Epoch 5/50\n",
      "\u001b[1m2539/2539\u001b[0m \u001b[32m━━━━━━━━━━━━━━━━━━━━\u001b[0m\u001b[37m\u001b[0m \u001b[1m0s\u001b[0m 37ms/step - accuracy: 0.9288 - loss: 0.1888\n",
      "Epoch 5: val_accuracy improved from 0.93041 to 0.93127, saving model to best_model.weights.h5\n",
      "\u001b[1m2539/2539\u001b[0m \u001b[32m━━━━━━━━━━━━━━━━━━━━\u001b[0m\u001b[37m\u001b[0m \u001b[1m109s\u001b[0m 43ms/step - accuracy: 0.9288 - loss: 0.1888 - val_accuracy: 0.9313 - val_loss: 0.1851\n",
      "Epoch 6/50\n",
      "\u001b[1m2539/2539\u001b[0m \u001b[32m━━━━━━━━━━━━━━━━━━━━\u001b[0m\u001b[37m\u001b[0m \u001b[1m0s\u001b[0m 37ms/step - accuracy: 0.9326 - loss: 0.1794\n",
      "Epoch 6: val_accuracy did not improve from 0.93127\n",
      "\u001b[1m2539/2539\u001b[0m \u001b[32m━━━━━━━━━━━━━━━━━━━━\u001b[0m\u001b[37m\u001b[0m \u001b[1m109s\u001b[0m 43ms/step - accuracy: 0.9326 - loss: 0.1794 - val_accuracy: 0.9284 - val_loss: 0.1817\n",
      "Epoch 7/50\n",
      "\u001b[1m2539/2539\u001b[0m \u001b[32m━━━━━━━━━━━━━━━━━━━━\u001b[0m\u001b[37m\u001b[0m \u001b[1m0s\u001b[0m 37ms/step - accuracy: 0.9342 - loss: 0.1751\n",
      "Epoch 7: val_accuracy improved from 0.93127 to 0.93359, saving model to best_model.weights.h5\n",
      "\u001b[1m2539/2539\u001b[0m \u001b[32m━━━━━━━━━━━━━━━━━━━━\u001b[0m\u001b[37m\u001b[0m \u001b[1m109s\u001b[0m 43ms/step - accuracy: 0.9342 - loss: 0.1751 - val_accuracy: 0.9336 - val_loss: 0.1776\n",
      "Epoch 8/50\n",
      "\u001b[1m2539/2539\u001b[0m \u001b[32m━━━━━━━━━━━━━━━━━━━━\u001b[0m\u001b[37m\u001b[0m \u001b[1m0s\u001b[0m 37ms/step - accuracy: 0.9353 - loss: 0.1708\n",
      "Epoch 8: val_accuracy did not improve from 0.93359\n",
      "\u001b[1m2539/2539\u001b[0m \u001b[32m━━━━━━━━━━━━━━━━━━━━\u001b[0m\u001b[37m\u001b[0m \u001b[1m110s\u001b[0m 43ms/step - accuracy: 0.9353 - loss: 0.1708 - val_accuracy: 0.9321 - val_loss: 0.1832\n",
      "Epoch 9/50\n",
      "\u001b[1m2539/2539\u001b[0m \u001b[32m━━━━━━━━━━━━━━━━━━━━\u001b[0m\u001b[37m\u001b[0m \u001b[1m0s\u001b[0m 37ms/step - accuracy: 0.9375 - loss: 0.1673\n",
      "Epoch 9: val_accuracy improved from 0.93359 to 0.93361, saving model to best_model.weights.h5\n",
      "\u001b[1m2539/2539\u001b[0m \u001b[32m━━━━━━━━━━━━━━━━━━━━\u001b[0m\u001b[37m\u001b[0m \u001b[1m109s\u001b[0m 43ms/step - accuracy: 0.9375 - loss: 0.1673 - val_accuracy: 0.9336 - val_loss: 0.1800\n",
      "Epoch 10/50\n",
      "\u001b[1m2539/2539\u001b[0m \u001b[32m━━━━━━━━━━━━━━━━━━━━\u001b[0m\u001b[37m\u001b[0m \u001b[1m0s\u001b[0m 37ms/step - accuracy: 0.9392 - loss: 0.1613\n",
      "Epoch 10: val_accuracy improved from 0.93361 to 0.93387, saving model to best_model.weights.h5\n",
      "\u001b[1m2539/2539\u001b[0m \u001b[32m━━━━━━━━━━━━━━━━━━━━\u001b[0m\u001b[37m\u001b[0m \u001b[1m109s\u001b[0m 43ms/step - accuracy: 0.9392 - loss: 0.1613 - val_accuracy: 0.9339 - val_loss: 0.1808\n",
      "Epoch 11/50\n",
      "\u001b[1m2539/2539\u001b[0m \u001b[32m━━━━━━━━━━━━━━━━━━━━\u001b[0m\u001b[37m\u001b[0m \u001b[1m0s\u001b[0m 37ms/step - accuracy: 0.9423 - loss: 0.1560\n",
      "Epoch 11: val_accuracy did not improve from 0.93387\n",
      "\u001b[1m2539/2539\u001b[0m \u001b[32m━━━━━━━━━━━━━━━━━━━━\u001b[0m\u001b[37m\u001b[0m \u001b[1m109s\u001b[0m 43ms/step - accuracy: 0.9423 - loss: 0.1560 - val_accuracy: 0.9320 - val_loss: 0.1859\n",
      "Epoch 12/50\n",
      "\u001b[1m2539/2539\u001b[0m \u001b[32m━━━━━━━━━━━━━━━━━━━━\u001b[0m\u001b[37m\u001b[0m \u001b[1m0s\u001b[0m 37ms/step - accuracy: 0.9428 - loss: 0.1520\n",
      "Epoch 12: val_accuracy did not improve from 0.93387\n",
      "\u001b[1m2539/2539\u001b[0m \u001b[32m━━━━━━━━━━━━━━━━━━━━\u001b[0m\u001b[37m\u001b[0m \u001b[1m110s\u001b[0m 43ms/step - accuracy: 0.9428 - loss: 0.1520 - val_accuracy: 0.9332 - val_loss: 0.1839\n",
      "Epoch 12: early stopping\n",
      "Best weights loaded from best_model.weights.h5\n",
      "Full model saved as best_model.keras\n",
      "Full model saved as best_model.h5\n"
     ]
    }
   ],
   "source": [
    "from tensorflow.keras.models import load_model\n",
    "\n",
    "# EarlyStopping and ModelCheckpoint for saving weights\n",
    "es = EarlyStopping(monitor='val_loss', mode='min', verbose=1, patience=5)\n",
    "mc = ModelCheckpoint('best_model.weights.h5', monitor='val_accuracy', mode='max', verbose=1, save_best_only=True, save_weights_only=True)\n",
    "\n",
    "# Train the model\n",
    "history = model.fit(\n",
    "    X_train,\n",
    "    y_train,\n",
    "    validation_data=(X_test, y_test),\n",
    "    epochs=50,\n",
    "    batch_size=64,\n",
    "    callbacks=[es, mc]\n",
    ")\n",
    "\n",
    "# After training, load the best weights\n",
    "model.load_weights('best_model.weights.h5')\n",
    "print(\"Best weights loaded from best_model.weights.h5\")\n",
    "\n",
    "# Save the full model to .keras format\n",
    "model.save('best_model.keras')\n",
    "print(\"Full model saved as best_model.keras\")\n",
    "\n",
    "# Convert the .keras file to .h5\n",
    "model.save('best_model.h5', save_format='h5')\n",
    "print(\"Full model saved as best_model.h5\")\n"
   ]
  },
  {
   "cell_type": "markdown",
   "id": "bd25b114",
   "metadata": {
    "papermill": {
     "duration": 1.496517,
     "end_time": "2024-12-05T21:37:24.203565",
     "exception": false,
     "start_time": "2024-12-05T21:37:22.707048",
     "status": "completed"
    },
    "tags": []
   },
   "source": [
    "### Model Evaluation"
   ]
  },
  {
   "cell_type": "code",
   "execution_count": 10,
   "id": "6ef6f1f1",
   "metadata": {
    "execution": {
     "iopub.execute_input": "2024-12-05T21:37:27.157278Z",
     "iopub.status.busy": "2024-12-05T21:37:27.156889Z",
     "iopub.status.idle": "2024-12-05T21:37:27.582464Z",
     "shell.execute_reply": "2024-12-05T21:37:27.581479Z"
    },
    "papermill": {
     "duration": 1.913926,
     "end_time": "2024-12-05T21:37:27.584270",
     "exception": false,
     "start_time": "2024-12-05T21:37:25.670344",
     "status": "completed"
    },
    "tags": []
   },
   "outputs": [
    {
     "data": {
      "image/png": "[encoded data removed]",
      "text/plain": [
       "<Figure size 1200x500 with 2 Axes>"
      ]
     },
     "metadata": {},
     "output_type": "display_data"
    }
   ],
   "source": [
    "import matplotlib.pyplot as plt\n",
    "\n",
    "# Plot for accuracy\n",
    "plt.figure(figsize=(12, 5))\n",
    "\n",
    "# Subplot for accuracy\n",
    "plt.subplot(1, 2, 1)\n",
    "plt.plot(history.history['accuracy'], label='Train Accuracy')  # Training accuracy\n",
    "plt.plot(history.history['val_accuracy'], label='Validation Accuracy')  # Validation accuracy\n",
    "plt.title('Accuracy per Epoch')  # Title of the plot\n",
    "plt.xlabel('Epochs')  # X-axis label\n",
    "plt.ylabel('Accuracy')  # Y-axis label\n",
    "plt.legend()  # Display legend\n",
    "\n",
    "# Subplot for loss\n",
    "plt.subplot(1, 2, 2)\n",
    "plt.plot(history.history['loss'], label='Train Loss')  # Training loss\n",
    "plt.plot(history.history['val_loss'], label='Validation Loss')  # Validation loss\n",
    "plt.title('Loss per Epoch')  # Title of the plot\n",
    "plt.xlabel('Epochs')  # X-axis label\n",
    "plt.ylabel('Loss')  # Y-axis label\n",
    "plt.legend()  # Display legend\n",
    "\n",
    "# Display the plot\n",
    "plt.tight_layout()  # Adjust layout for better fit\n",
    "plt.show()  # Show the plots"
   ]
  },
  {
   "cell_type": "code",
   "execution_count": 11,
   "id": "72fe20e4",
   "metadata": {
    "execution": {
     "iopub.execute_input": "2024-12-05T21:37:30.541475Z",
     "iopub.status.busy": "2024-12-05T21:37:30.541141Z",
     "iopub.status.idle": "2024-12-05T21:37:58.713044Z",
     "shell.execute_reply": "2024-12-05T21:37:58.712103Z"
    },
    "papermill": {
     "duration": 29.647101,
     "end_time": "2024-12-05T21:37:58.715034",
     "exception": false,
     "start_time": "2024-12-05T21:37:29.067933",
     "status": "completed"
    },
    "tags": []
   },
   "outputs": [
    {
     "name": "stdout",
     "output_type": "stream",
     "text": [
      "\u001b[1m2176/2176\u001b[0m \u001b[32m━━━━━━━━━━━━━━━━━━━━\u001b[0m\u001b[37m\u001b[0m \u001b[1m27s\u001b[0m 12ms/step\n",
      "              precision    recall  f1-score   support\n",
      "\n",
      "     suicide       0.94      0.93      0.93     34824\n",
      " non-suicide       0.93      0.94      0.93     34799\n",
      "\n",
      "    accuracy                           0.93     69623\n",
      "   macro avg       0.93      0.93      0.93     69623\n",
      "weighted avg       0.93      0.93      0.93     69623\n",
      "\n"
     ]
    }
   ],
   "source": [
    "from sklearn.metrics import classification_report\n",
    "\n",
    "# Get model predictions\n",
    "y_pred = model.predict(X_test)\n",
    "\n",
    "# Convert predictions and labels from one-hot encoding to integer labels\n",
    "y_pred_labels = np.argmax(y_pred, axis=1)\n",
    "y_test_labels = np.argmax(y_test, axis=1)\n",
    "\n",
    "# Generate the classification report\n",
    "report = classification_report(y_test_labels, y_pred_labels, target_names=df['class'].unique())\n",
    "\n",
    "# Print the classification report\n",
    "print(report)"
   ]
  }
 ],
 "metadata": {
  "kaggle": {
   "accelerator": "gpu",
   "dataSources": [
    {
     "datasetId": 1075326,
     "sourceId": 2250642,
     "sourceType": "datasetVersion"
    },
    {
     "datasetId": 6205385,
     "sourceId": 10068293,
     "sourceType": "datasetVersion"
    }
   ],
   "dockerImageVersionId": 30787,
   "isGpuEnabled": true,
   "isInternetEnabled": true,
   "language": "python",
   "sourceType": "notebook"
  },
  "kernelspec": {
   "display_name": "Python 3",
   "language": "python",
   "name": "python3"
  },
  "language_info": {
   "codemirror_mode": {
    "name": "ipython",
    "version": 3
   },
   "file_extension": ".py",
   "mimetype": "text/x-python",
   "name": "python",
   "nbconvert_exporter": "python",
   "pygments_lexer": "ipython3",
   "version": "3.10.14"
  },
  "papermill": {
   "default_parameters": {},
   "duration": 1488.201352,
   "end_time": "2024-12-05T21:38:03.396408",
   "environment_variables": {},
   "exception": null,
   "input_path": "__notebook__.ipynb",
   "output_path": "__notebook__.ipynb",
   "parameters": {},
   "start_time": "2024-12-05T21:13:15.195056",
   "version": "2.6.0"
  }
 },
 "nbformat": 4,
 "nbformat_minor": 5
}
